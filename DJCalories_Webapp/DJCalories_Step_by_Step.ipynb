{
 "cells": [
  {
   "cell_type": "markdown",
   "metadata": {},
   "source": [
    "# DJCalories_Webapp\n",
    "\n",
    "## Step-by-Step generation of a new Django webabb"
   ]
  },
  {
   "cell_type": "code",
   "execution_count": null,
   "metadata": {},
   "outputs": [],
   "source": [
    "#!pip install django\n",
    "#!pip install django-filter"
   ]
  },
  {
   "cell_type": "code",
   "execution_count": 5,
   "metadata": {},
   "outputs": [
    {
     "data": {
      "text/plain": [
       "'3.1.2'"
      ]
     },
     "execution_count": 5,
     "metadata": {},
     "output_type": "execute_result"
    }
   ],
   "source": [
    "import django\n",
    "import django_filters\n",
    "django.__version__"
   ]
  },
  {
   "cell_type": "markdown",
   "metadata": {},
   "source": [
    "Create New project called 'DJCalories_Project', then start app| named 'DJCalories_Webapp'"
   ]
  },
  {
   "cell_type": "code",
   "execution_count": 7,
   "metadata": {},
   "outputs": [],
   "source": [
    "!django-admin startproject DJCalories_Project\n",
    "#!cd  DJCalories_Project\n",
    "!django-admin startapp DJCalories_Webapp"
   ]
  },
  {
   "cell_type": "markdown",
   "metadata": {},
   "source": [
    "The following goes into 'DJCalories_Webapp/models.py'\n",
    "\n",
    "Generate model fields. The \\_\\_str__() method will return the string representation of an object. "
   ]
  },
  {
   "cell_type": "code",
   "execution_count": null,
   "metadata": {},
   "outputs": [],
   "source": [
    "from django.db import models\n",
    "from django.contrib.auth.models import User\n",
    "# Create your models here.\n",
    "\n",
    "# Store Customers\n",
    "class Customer(models.Model):\n",
    "    user = \t\t\tmodels.OneToOneField(User, null=True, on_delete=models.CASCADE)\n",
    "    name = \t\t\tmodels.CharField(max_length=200,null=True)\n",
    "    email = \t\tmodels.CharField(max_length=200,null=True)\n",
    "    date_created = \tmodels.DateTimeField(auto_now_add=True,null=True)\n",
    "    def __str__(self):\n",
    "        return str(self.name)\n",
    "\n",
    "# Store food item category\n",
    "class Category(models.Model):\n",
    "    options\t= (('breakfast','breakfast'),\n",
    "              ('lunch','lunch'),\n",
    "              ('dinner','dinner'),\n",
    "              ('snacks','snacks'),\n",
    "              )\n",
    "    name\t= models.CharField(max_length=50, choices=options)\n",
    "    def __str__(self):\n",
    "        return self.name\n",
    "\n",
    "# Store available food items\n",
    "class Fooditem(models.Model):\n",
    "    name = \t\t\tmodels.CharField(max_length=200)\n",
    "    category = \t\tmodels.ManyToManyField(Category)\n",
    "    carbohydrate = \tmodels.DecimalField(max_digits=5,decimal_places=2,default=0)\n",
    "    fats = \t\t\tmodels.DecimalField(max_digits=5,decimal_places=2,default=0)\n",
    "    protein = \t\tmodels.DecimalField(max_digits=5,decimal_places=2,default=0)\n",
    "    calorie = \t\tmodels.DecimalField(max_digits=5,decimal_places=2,default=0,blank=True)\n",
    "    quantity = \t\tmodels.IntegerField(default=1,null=True,blank=True)\n",
    "    def __str__(self):\n",
    "        return str(self.name)\n",
    "    \n",
    "# Store user-consumed food items\n",
    "class UserFooditem(models.Model):\n",
    "    customer = models.ManyToManyField(Customer, blank=True)\n",
    "    fooditem = models.ManyToManyField(Fooditem)"
   ]
  },
  {
   "cell_type": "markdown",
   "metadata": {},
   "source": [
    "Authentication in decorators.py"
   ]
  },
  {
   "cell_type": "code",
   "execution_count": null,
   "metadata": {},
   "outputs": [],
   "source": [
    "from django.http import HttpResponse\n",
    "from django.shortcuts import redirect\n",
    "\n",
    "# Authorized users get redirected to Home,\n",
    "# Unauthorized users can access only the login and registration page\n",
    "def unauthorized_user(view_func): \n",
    "    def wrapper_func(request,*args,**kwargs):\n",
    "        if request.user.is_authenticated:\n",
    "            return redirect('home')\n",
    "        else:\n",
    "            return view_func(request,*args,**kwargs)\n",
    "    return wrapper_func\n",
    "\n",
    "\n",
    "def allowed_users(allowed_roles=[]):\n",
    "    \n",
    "    def decorator(view_func):\n",
    "        \n",
    "        def wrapper_func(request,*args,**kwargs):\n",
    "            group = None\n",
    "            if request.user.groups.exists():\n",
    "                group = request.user.groups.all()[0].name\n",
    "            if group in allowed_roles:\n",
    "                return view_func(request,*args,**kwargs)\n",
    "            else:\n",
    "                return HttpResponse(\"<h1>You are not allowed to access this page</h1>\")\n",
    "        return wrapper_func\n",
    "    \n",
    "    return decorator\n",
    "\n",
    "\n",
    "def admin_only(view_func):\n",
    "    def wrapper_func(request,*args,**kwargs):\n",
    "        \n",
    "        group = None\n",
    "        if request.user.groups.exists():\n",
    "            group = request.user.groups.all()[0].name\n",
    "        if group == 'user':\n",
    "            return redirect('userPage')\n",
    "        if group == 'admin':\n",
    "            return view_func(request,*args,**kwargs)\n",
    "        \n",
    "    return wrapper_func"
   ]
  },
  {
   "cell_type": "markdown",
   "metadata": {},
   "source": [
    "filters.py"
   ]
  },
  {
   "cell_type": "code",
   "execution_count": null,
   "metadata": {},
   "outputs": [],
   "source": [
    "import django_filters\n",
    "from .models import *\n",
    "\n",
    "# Enable search filter for the user\n",
    "class fooditemFilter(django_filters.FilterSet):\n",
    "    class Meta:\n",
    "        model = Fooditem\n",
    "        fields = ['name']"
   ]
  },
  {
   "cell_type": "markdown",
   "metadata": {},
   "source": [
    "Creating and updating models in models.py"
   ]
  },
  {
   "cell_type": "code",
   "execution_count": null,
   "metadata": {},
   "outputs": [],
   "source": [
    "from django.forms import ModelForm\n",
    "from .models import *\n",
    "from django.contrib.auth.forms import UserCreationForm\n",
    "\n",
    "# Creating and updating models in models.py\n",
    "class fooditemForm(ModelForm):\n",
    "    class Meta:\n",
    "        model = Fooditem\n",
    "        fields = \"__all__\"\n",
    "\n",
    "class addUserFooditem(ModelForm):\n",
    "    class Meta:\n",
    "        model = UserFooditem\n",
    "        fields = \"__all__\"\n",
    "        \n",
    "class createUserForm(UserCreationForm):\n",
    "    class Meta:\n",
    "        model = User\n",
    "        fields = ['username','email','password1','password2']"
   ]
  },
  {
   "cell_type": "markdown",
   "metadata": {},
   "source": [
    "Create/update models from django admin site in admin.py"
   ]
  },
  {
   "cell_type": "code",
   "execution_count": null,
   "metadata": {},
   "outputs": [],
   "source": [
    "from django.contrib import admin\n",
    "from .models import *\n",
    "\n",
    "# Now, Register the models here.\n",
    "# Create/update models from django admin site\n",
    "\n",
    "class foodAdmin(admin.ModelAdmin):\n",
    "    class Meta:\n",
    "        model = Fooditem\n",
    "    list_display = ['name']\n",
    "    list_filter = ['name']\n",
    "\n",
    "admin.site.register(Customer)\n",
    "admin.site.register(UserFooditem)\n",
    "admin.site.register(Category)\n",
    "admin.site.register(Fooditem,foodAdmin)"
   ]
  },
  {
   "cell_type": "markdown",
   "metadata": {},
   "source": [
    "In settings.py add to INSTALLED_APPS: 'DJCalories_Webapp.apps.DjcaloriesWebappConfig', and 'django_filters',"
   ]
  },
  {
   "cell_type": "code",
   "execution_count": null,
   "metadata": {},
   "outputs": [],
   "source": [
    "INSTALLED_APPS = [\n",
    "    'django.contrib.admin',\n",
    "    'django.contrib.auth',\n",
    "    'django.contrib.contenttypes',\n",
    "    'django.contrib.sessions',\n",
    "    'django.contrib.messages',\n",
    "    'django.contrib.staticfiles',\n",
    "    'DJCalories_Webapp.apps.DjcaloriesWebappConfig',\n",
    "    'django_filters',\n",
    "]"
   ]
  },
  {
   "cell_type": "markdown",
   "metadata": {},
   "source": [
    "Add to file in project folder: urls.py"
   ]
  },
  {
   "cell_type": "code",
   "execution_count": null,
   "metadata": {},
   "outputs": [],
   "source": [
    "from django.contrib import admin\n",
    "from django.urls import path, include\n",
    "\n",
    "urlpatterns = [\tpath('admin/', admin.site.urls),\n",
    "\t\t\t\tpath('',include('DJCalories_Webapp.urls')),\n",
    "\t\t\t  ]"
   ]
  },
  {
   "cell_type": "markdown",
   "metadata": {},
   "source": [
    "Create NEW urls.py file file in webapp folder"
   ]
  },
  {
   "cell_type": "code",
   "execution_count": null,
   "metadata": {},
   "outputs": [],
   "source": [
    "from django.urls import path,include\n",
    "from . import views\n",
    "from django.contrib.auth import views as auth_views\n",
    "\n",
    "urlpatterns = [\n",
    "    path('',views.home,name='home'),\n",
    "    path('user/',views.userPage,name='userPage'), # userPage\n",
    "    path('product/',views.fooditem,name='fooditem'),\n",
    "    path('createfooditem/',views.createfooditem,name='createfooditem'),\n",
    "    path('register/',views.registerPage,name='register'),\n",
    "    path('login/',views.loginPage,name='login'),\n",
    "    path('logout/',views.logoutUser,name='logout'),\n",
    "    path('addFooditem/',views.addFooditem,name='addFooditem'),\n",
    "     path('reset_password/',\n",
    "         auth_views.PasswordResetView.as_view(),\n",
    "         name=\"reset_password\"),\n",
    "    path('reset_password_sent/',\n",
    "         auth_views.PasswordResetDoneView.as_view(),\n",
    "         name=\"password_reset_done\"),\n",
    "    path('reset/<uidb64>/<token>/',\n",
    "         auth_views.PasswordResetConfirmView.as_view(),\n",
    "         name=\"password_reset_confirm\"),\n",
    "    path('reset_password_complete/',\n",
    "         auth_views.PasswordResetCompleteView.as_view(),\n",
    "         name=\"password_reset_complete\"),\n",
    "\t]"
   ]
  },
  {
   "cell_type": "markdown",
   "metadata": {},
   "source": [
    "Add to views.py"
   ]
  },
  {
   "cell_type": "code",
   "execution_count": null,
   "metadata": {},
   "outputs": [],
   "source": [
    "from django.shortcuts import render, redirect\n",
    "from django.http import HttpResponse\n",
    "from django.contrib.auth.models import User\n",
    "from .models import *\n",
    "from .forms import *\n",
    "from django.contrib import messages\n",
    "from django.contrib.auth import authenticate,login,logout\n",
    "from django.contrib.auth.decorators import login_required\n",
    "from .decorators import *\n",
    "from django.contrib.auth.models import Group\n",
    "from .filters import fooditemFilter\n",
    "\n",
    "# Create your views here.\n",
    "\n",
    "@login_required(login_url='login')\n",
    "@admin_only\n",
    "def home(request):\n",
    "    breakfast =\tCategory.objects.filter(name='breakfast')[0].fooditem_set.all()[:5]\n",
    "    lunch =\t\tCategory.objects.filter(name='lunch')[0].fooditem_set.all()[:5]\n",
    "    dinner =\tCategory.objects.filter(name='dinner')[0].fooditem_set.all()[:5]\n",
    "    snacks =\tCategory.objects.filter(name='snacks')[0].fooditem_set.all()[:5]\n",
    "    customers =\tCustomer.objects.all()\n",
    "\n",
    "    context =\t{'breakfast':breakfast,\n",
    "\t\t\t\t'lunch':lunch,\n",
    "\t\t\t\t'dinner':dinner,\n",
    "\t\t\t\t'snacks':snacks,\n",
    "\t\t\t\t'customers':customers,\n",
    "\t\t\t\t}\n",
    "    return render(request,'main.html',context)\n",
    "\n",
    "\n",
    "@login_required(login_url='login')\n",
    "@allowed_users(allowed_roles=['admin'])\n",
    "def fooditem(request):\n",
    "    breakfast =\tCategory.objects.filter(name='breakfast')[0].fooditem_set.all()\n",
    "    bcnt = \t\tbreakfast.count()\n",
    "\n",
    "    lunch = \tCategory.objects.filter(name='lunch')[0].fooditem_set.all()\n",
    "    lcnt =\t\tlunch.count()\n",
    "\n",
    "    dinner =\tCategory.objects.filter(name='dinner')[0].fooditem_set.all()\n",
    "    dcnt = \t\tdinner.count()\n",
    "\n",
    "    snacks =\tCategory.objects.filter(name='snacks')[0].fooditem_set.all()\n",
    "    scnt = \t\tsnacks.count()\n",
    "\n",
    "    context = \t{'breakfast':breakfast,\n",
    "\t\t\t\t 'bcnt':bcnt,\n",
    "\t\t\t\t 'lcnt':lcnt,\n",
    "\t\t\t\t 'scnt':scnt,\n",
    "\t\t\t\t 'dcnt':dcnt,\n",
    "\t\t\t\t 'lunch':lunch,\n",
    "\t\t\t\t 'dinner':dinner,\n",
    "\t\t\t\t 'snacks':snacks,\n",
    "\t\t\t\t}\n",
    "    return render(request,'fooditem.html',context)\n",
    "\n",
    "\n",
    "@login_required(login_url='login')\n",
    "@allowed_users(allowed_roles=['admin'])\n",
    "def createfooditem(request):\n",
    "    form = fooditemForm()\n",
    "    if request.method == 'POST':\n",
    "        form = fooditemForm(request.POST)\n",
    "        if form.is_valid():\n",
    "            form.save()\n",
    "            return redirect('/')\n",
    "\n",
    "    context = {'form':form}\n",
    "    return render(request,'createfooditem.html',context)\n",
    "\n",
    "\n",
    "@unauthorized_user\n",
    "def registerPage(request):\n",
    "    form = createUserForm()\n",
    "    if request.method == 'POST':\n",
    "        form = createUserForm(request.POST)\n",
    "        if form.is_valid():\n",
    "            user = \t\tform.save()\n",
    "            username =\tform.cleaned_data.get('username')\n",
    "            group = \tGroup.objects.get(name='user')\n",
    "            user.groups.add(group)\n",
    "            email =\t\tform.cleaned_data.get('email')\n",
    "            Customer.objects.create(user=user, name=username,email=email)\n",
    "            messages.success(request,'Account created for '+username)\n",
    "            return redirect('login')\n",
    "\n",
    "    context = {'form':form}\n",
    "    return render(request,'register.html',context)\n",
    "\n",
    "\n",
    "@unauthorized_user\n",
    "def loginPage(request):\n",
    "    if request.method == 'POST':\n",
    "        username = \trequest.POST.get('username')\n",
    "        password = \trequest.POST.get('password')\n",
    "        user = \t\tauthenticate(request,username=username,password=password)\n",
    "        if user is not None:\n",
    "            login(request,user)\n",
    "            return redirect('home')\n",
    "        else:\n",
    "            messages.info(request,'username or password is invalid')\n",
    "    return render(request,'login.html')\n",
    "\n",
    "\n",
    "@login_required(login_url='login')\n",
    "def logoutUser(request):\n",
    "    logout(request)\n",
    "    return redirect('login')\n",
    "\n",
    "\n",
    "def userPage(request):\n",
    "    user = \t\t\trequest.user\n",
    "    cust = \t\t\tuser.customer\n",
    "    fooditems = \tFooditem.objects.filter()\n",
    "    myfilter = \t\tfooditemFilter(request.GET,queryset=fooditems)\n",
    "    fooditems = \tmyfilter.qs\n",
    "    total = \t\tUserFooditem.objects.all()\n",
    "    myfooditems = \ttotal.filter(customer=cust)\n",
    "    cnt = \t\t\tmyfooditems.count()\n",
    "\n",
    "    querysetFood = \t[]\n",
    "    for food in myfooditems:\n",
    "        querysetFood.append(food.fooditem.all())\n",
    "\n",
    "    finalFoodItems = []\n",
    "    for items in querysetFood:\n",
    "        for food_items in items:\n",
    "            finalFoodItems.append(food_items)\n",
    "\n",
    "    totalCalories = 0\n",
    "    for foods in finalFoodItems:\n",
    "        totalCalories += foods.calorie\n",
    "\n",
    "    CalorieLeft = 2000 - totalCalories\n",
    "\n",
    "    context = {'CalorieLeft':CalorieLeft,'totalCalories':totalCalories,'cnt':cnt,'foodlist':finalFoodItems,'fooditem':fooditems,'myfilter':myfilter}\n",
    "    return render(request,'user.html',context)\n",
    "\n",
    "\n",
    "def addFooditem(request):\n",
    "    user =\trequest.user\n",
    "    cust =\tuser.customer\n",
    "    if request.method == \"POST\":\n",
    "        form = addUserFooditem(request.POST)\n",
    "        if form.is_valid():\n",
    "            form.save()\n",
    "            return redirect('/')\n",
    "\n",
    "    form = \t\taddUserFooditem()\n",
    "    context =\t{'form':form}\n",
    "    return render(request,'addUserFooditem.html',context)"
   ]
  },
  {
   "cell_type": "markdown",
   "metadata": {},
   "source": [
    "Execute the following in the cmd while in the main folder with the manage.py file. Add 'python' in front if needed.\n",
    "\n",
    "The admin credentials are: name, email address, password (>8 letters), password (again)."
   ]
  },
  {
   "cell_type": "code",
   "execution_count": null,
   "metadata": {},
   "outputs": [],
   "source": [
    "# This creates the SQLite database, it is responsible for packaging up the model's changes into individual migration files - analogous to GIT commits\n",
    "python manage.py makemigrations\n",
    "\n",
    "# migrate is responsible for applying those to the database\n",
    "python manage.py migrate\n",
    "\n",
    "# admin credentials\n",
    "python manage.py createsuperuser\n",
    "\n",
    "# start it all up\n",
    "manage.py runserver"
   ]
  }
 ],
 "metadata": {
  "kernelspec": {
   "display_name": "Python 3",
   "language": "python",
   "name": "python3"
  },
  "language_info": {
   "codemirror_mode": {
    "name": "ipython",
    "version": 3
   },
   "file_extension": ".py",
   "mimetype": "text/x-python",
   "name": "python",
   "nbconvert_exporter": "python",
   "pygments_lexer": "ipython3",
   "version": "3.7.9"
  }
 },
 "nbformat": 4,
 "nbformat_minor": 4
}
