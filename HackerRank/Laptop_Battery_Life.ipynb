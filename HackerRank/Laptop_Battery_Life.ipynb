{
 "cells": [
  {
   "cell_type": "markdown",
   "metadata": {},
   "source": [
    "# Laptop Battery Life\n",
    "\n",
    "https://www.hackerrank.com/challenges/battery/problem\n",
    "\n",
    "## Input Data\n",
    "\n",
    "1. The first number denotes the amount of time the laptop was charged.\n",
    "2. The second number denotes the amount of time the battery lasted."
   ]
  },
  {
   "cell_type": "code",
   "execution_count": 1,
   "metadata": {},
   "outputs": [
    {
     "data": {
      "text/plain": [
       "['2.81,5.62\\n',\n",
       " '7.14,8.00\\n',\n",
       " '2.72,5.44\\n',\n",
       " '3.87,7.74\\n',\n",
       " '1.90,3.80\\n',\n",
       " '7.82,8.00\\n',\n",
       " '7.02,8.00\\n',\n",
       " '5.50,8.00\\n',\n",
       " '9.15,8.00\\n',\n",
       " '4.87,8.00\\n',\n",
       " '8.08,8.00\\n',\n",
       " '5.58,8.00\\n',\n",
       " '9.13,8.00\\n',\n",
       " '0.14,0.28\\n',\n",
       " '2.00,4.00\\n',\n",
       " '5.47,8.00\\n',\n",
       " '0.80,1.60\\n',\n",
       " '4.37,8.00\\n',\n",
       " '5.31,8.00\\n',\n",
       " '0.00,0.00\\n']"
      ]
     },
     "execution_count": 1,
     "metadata": {},
     "output_type": "execute_result"
    }
   ],
   "source": [
    "# sample input\n",
    "with open('Laptop_Battery_Life_trainingdata.txt','r') as fh:\n",
    "     all_lines = fh.readlines()\n",
    "all_lines[0:20]"
   ]
  },
  {
   "cell_type": "markdown",
   "metadata": {},
   "source": [
    "## Establish Relationship using Input Data"
   ]
  },
  {
   "cell_type": "code",
   "execution_count": 2,
   "metadata": {},
   "outputs": [
    {
     "name": "stdout",
     "output_type": "stream",
     "text": [
      "charge: 2.81 \tlabel: 5.62 \tpred: 5.62\n",
      "charge: 7.14 \tlabel: 8.0 \tpred: 8\n",
      "charge: 2.72 \tlabel: 5.44 \tpred: 5.44\n",
      "charge: 3.87 \tlabel: 7.74 \tpred: 7.74\n",
      "charge: 1.9 \tlabel: 3.8 \tpred: 3.8\n",
      "charge: 7.82 \tlabel: 8.0 \tpred: 8\n",
      "charge: 7.02 \tlabel: 8.0 \tpred: 8\n",
      "charge: 5.5 \tlabel: 8.0 \tpred: 8\n",
      "charge: 9.15 \tlabel: 8.0 \tpred: 8\n",
      "charge: 4.87 \tlabel: 8.0 \tpred: 8\n",
      "charge: 8.08 \tlabel: 8.0 \tpred: 8\n",
      "charge: 5.58 \tlabel: 8.0 \tpred: 8\n",
      "charge: 9.13 \tlabel: 8.0 \tpred: 8\n",
      "charge: 0.14 \tlabel: 0.28 \tpred: 0.28\n",
      "charge: 2.0 \tlabel: 4.0 \tpred: 4.0\n",
      "charge: 5.47 \tlabel: 8.0 \tpred: 8\n",
      "charge: 0.8 \tlabel: 1.6 \tpred: 1.6\n",
      "charge: 4.37 \tlabel: 8.0 \tpred: 8\n",
      "charge: 5.31 \tlabel: 8.0 \tpred: 8\n",
      "charge: 0.0 \tlabel: 0.0 \tpred: 0.0\n",
      "charge: 1.78 \tlabel: 3.56 \tpred: 3.56\n",
      "charge: 3.45 \tlabel: 6.9 \tpred: 6.9\n",
      "charge: 6.13 \tlabel: 8.0 \tpred: 8\n",
      "charge: 3.53 \tlabel: 7.06 \tpred: 7.06\n",
      "charge: 4.61 \tlabel: 8.0 \tpred: 8\n",
      "charge: 1.76 \tlabel: 3.52 \tpred: 3.52\n",
      "charge: 6.39 \tlabel: 8.0 \tpred: 8\n",
      "charge: 0.02 \tlabel: 0.04 \tpred: 0.04\n",
      "charge: 9.69 \tlabel: 8.0 \tpred: 8\n",
      "charge: 5.33 \tlabel: 8.0 \tpred: 8\n",
      "charge: 6.37 \tlabel: 8.0 \tpred: 8\n",
      "charge: 5.55 \tlabel: 8.0 \tpred: 8\n",
      "charge: 7.8 \tlabel: 8.0 \tpred: 8\n",
      "charge: 2.06 \tlabel: 4.12 \tpred: 4.12\n",
      "charge: 7.79 \tlabel: 8.0 \tpred: 8\n",
      "charge: 2.24 \tlabel: 4.48 \tpred: 4.48\n",
      "charge: 9.71 \tlabel: 8.0 \tpred: 8\n",
      "charge: 1.11 \tlabel: 2.22 \tpred: 2.22\n",
      "charge: 8.38 \tlabel: 8.0 \tpred: 8\n",
      "charge: 2.33 \tlabel: 4.66 \tpred: 4.66\n",
      "charge: 1.83 \tlabel: 3.66 \tpred: 3.66\n",
      "charge: 5.94 \tlabel: 8.0 \tpred: 8\n",
      "charge: 9.2 \tlabel: 8.0 \tpred: 8\n",
      "charge: 1.14 \tlabel: 2.28 \tpred: 2.28\n",
      "charge: 4.15 \tlabel: 8.0 \tpred: 8\n",
      "charge: 8.43 \tlabel: 8.0 \tpred: 8\n",
      "charge: 5.68 \tlabel: 8.0 \tpred: 8\n",
      "charge: 8.21 \tlabel: 8.0 \tpred: 8\n",
      "charge: 1.75 \tlabel: 3.5 \tpred: 3.5\n",
      "charge: 2.16 \tlabel: 4.32 \tpred: 4.32\n",
      "charge: 4.93 \tlabel: 8.0 \tpred: 8\n",
      "charge: 5.75 \tlabel: 8.0 \tpred: 8\n",
      "charge: 1.26 \tlabel: 2.52 \tpred: 2.52\n",
      "charge: 3.97 \tlabel: 7.94 \tpred: 7.94\n",
      "charge: 4.39 \tlabel: 8.0 \tpred: 8\n",
      "charge: 7.53 \tlabel: 8.0 \tpred: 8\n",
      "charge: 1.98 \tlabel: 3.96 \tpred: 3.96\n",
      "charge: 1.66 \tlabel: 3.32 \tpred: 3.32\n",
      "charge: 2.04 \tlabel: 4.08 \tpred: 4.08\n",
      "charge: 11.72 \tlabel: 8.0 \tpred: 8\n",
      "charge: 4.64 \tlabel: 8.0 \tpred: 8\n",
      "charge: 4.71 \tlabel: 8.0 \tpred: 8\n",
      "charge: 3.77 \tlabel: 7.54 \tpred: 7.54\n",
      "charge: 9.33 \tlabel: 8.0 \tpred: 8\n",
      "charge: 1.83 \tlabel: 3.66 \tpred: 3.66\n",
      "charge: 2.15 \tlabel: 4.3 \tpred: 4.3\n",
      "charge: 1.58 \tlabel: 3.16 \tpred: 3.16\n",
      "charge: 9.29 \tlabel: 8.0 \tpred: 8\n",
      "charge: 1.27 \tlabel: 2.54 \tpred: 2.54\n",
      "charge: 8.49 \tlabel: 8.0 \tpred: 8\n",
      "charge: 5.39 \tlabel: 8.0 \tpred: 8\n",
      "charge: 3.47 \tlabel: 6.94 \tpred: 6.94\n",
      "charge: 6.48 \tlabel: 8.0 \tpred: 8\n",
      "charge: 4.11 \tlabel: 8.0 \tpred: 8\n",
      "charge: 1.85 \tlabel: 3.7 \tpred: 3.7\n",
      "charge: 8.79 \tlabel: 8.0 \tpred: 8\n",
      "charge: 0.13 \tlabel: 0.26 \tpred: 0.26\n",
      "charge: 1.44 \tlabel: 2.88 \tpred: 2.88\n",
      "charge: 5.96 \tlabel: 8.0 \tpred: 8\n",
      "charge: 3.42 \tlabel: 6.84 \tpred: 6.84\n",
      "charge: 1.89 \tlabel: 3.78 \tpred: 3.78\n",
      "charge: 1.98 \tlabel: 3.96 \tpred: 3.96\n",
      "charge: 5.26 \tlabel: 8.0 \tpred: 8\n",
      "charge: 0.39 \tlabel: 0.78 \tpred: 0.78\n",
      "charge: 6.05 \tlabel: 8.0 \tpred: 8\n",
      "charge: 1.99 \tlabel: 3.98 \tpred: 3.98\n",
      "charge: 1.58 \tlabel: 3.16 \tpred: 3.16\n",
      "charge: 3.99 \tlabel: 7.98 \tpred: 7.98\n",
      "charge: 4.35 \tlabel: 8.0 \tpred: 8\n",
      "charge: 6.71 \tlabel: 8.0 \tpred: 8\n",
      "charge: 2.58 \tlabel: 5.16 \tpred: 5.16\n",
      "charge: 7.37 \tlabel: 8.0 \tpred: 8\n",
      "charge: 5.77 \tlabel: 8.0 \tpred: 8\n",
      "charge: 3.97 \tlabel: 7.94 \tpred: 7.94\n",
      "charge: 3.65 \tlabel: 7.3 \tpred: 7.3\n",
      "charge: 4.38 \tlabel: 8.0 \tpred: 8\n",
      "charge: 8.06 \tlabel: 8.0 \tpred: 8\n",
      "charge: 8.05 \tlabel: 8.0 \tpred: 8\n",
      "charge: 1.1 \tlabel: 2.2 \tpred: 2.2\n",
      "charge: 6.65 \tlabel: 8.0 \tpred: 8\n"
     ]
    }
   ],
   "source": [
    "import math\n",
    "import os\n",
    "import random\n",
    "import re\n",
    "import sys\n",
    "\n",
    "timeCharged = []\n",
    "timePlay = []\n",
    "for line in all_lines:\n",
    "    first_item = float(line.split(\",\")[0])\n",
    "    timeCharged.append(first_item)\n",
    "    second_item = float(line.split(\",\")[1])\n",
    "    timePlay.append(second_item)\n",
    "    \n",
    "# Based on training data, charging >4 hours yields max. 8 hours play time.\n",
    "# Under 4h, it is always double the charge time.\n",
    "\n",
    "for i,j in zip(timeCharged,timePlay):\n",
    "    if i > 4:\n",
    "        print(\"charge:\", i, \"\\tlabel:\",j,\"\\tpred:\", 8)\n",
    "    else:\n",
    "        print(\"charge:\", i, \"\\tlabel:\",j,\"\\tpred:\", 2 * i)"
   ]
  },
  {
   "cell_type": "markdown",
   "metadata": {},
   "source": [
    "## One-for-one input style"
   ]
  },
  {
   "cell_type": "code",
   "execution_count": 3,
   "metadata": {},
   "outputs": [
    {
     "name": "stdin",
     "output_type": "stream",
     "text": [
      " 2\n"
     ]
    },
    {
     "name": "stdout",
     "output_type": "stream",
     "text": [
      "4.0\n"
     ]
    }
   ],
   "source": [
    "import math\n",
    "import os\n",
    "import random\n",
    "import re\n",
    "import sys\n",
    "\n",
    "if __name__ == '__main__':\n",
    "    timeCharged = float(input())\n",
    "    \n",
    "# Based on training data, charging 4 hours and more always yields max. 8 hours uptime.\n",
    "# Otherwise it is always double the charge time.\n",
    "\n",
    "if timeCharged > 4:\n",
    "    print(8)\n",
    "else:\n",
    "    print(2 * timeCharged)"
   ]
  },
  {
   "cell_type": "code",
   "execution_count": null,
   "metadata": {},
   "outputs": [],
   "source": []
  }
 ],
 "metadata": {
  "kernelspec": {
   "display_name": "Python 3",
   "language": "python",
   "name": "python3"
  },
  "language_info": {
   "codemirror_mode": {
    "name": "ipython",
    "version": 3
   },
   "file_extension": ".py",
   "mimetype": "text/x-python",
   "name": "python",
   "nbconvert_exporter": "python",
   "pygments_lexer": "ipython3",
   "version": "3.7.7"
  }
 },
 "nbformat": 4,
 "nbformat_minor": 4
}
