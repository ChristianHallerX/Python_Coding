{
 "cells": [
  {
   "cell_type": "markdown",
   "metadata": {},
   "source": [
    "# Polynomial Regression: Office Prices\n",
    "\n",
    "https://www.hackerrank.com/challenges/predicting-office-space-price/problem"
   ]
  },
  {
   "cell_type": "markdown",
   "metadata": {},
   "source": [
    "## Input Data\n",
    "\n",
    "The first line contains F and N.\n",
    "\n",
    "N = number of train set samples.\n",
    "F = number of features.\n",
    "\n",
    "A train set row contains F values separated by a single space followed by office price label.\n",
    "\n",
    "The train set is followed by a row containing T.\n",
    "\n",
    "T = number of test set\n",
    "\n",
    "The test set also contains F features, but no office price label."
   ]
  },
  {
   "cell_type": "code",
   "execution_count": 2,
   "metadata": {},
   "outputs": [
    {
     "data": {
      "text/plain": [
       "['2 100\\n',\n",
       " '0.44 0.68 511.14\\n',\n",
       " '0.99 0.23 717.1\\n',\n",
       " '0.84 0.29 607.91\\n',\n",
       " '0.28 0.45 270.4\\n',\n",
       " '0.07 0.83 289.88\\n',\n",
       " '0.66 0.8 830.85\\n',\n",
       " '0.73 0.92 1038.09\\n',\n",
       " '0.57 0.43 455.19\\n',\n",
       " '0.43 0.89 640.17\\n',\n",
       " '0.27 0.95 511.06\\n',\n",
       " '0.43 0.06 177.03\\n',\n",
       " '0.87 0.91 1242.52\\n',\n",
       " '0.78 0.69 891.37\\n',\n",
       " '0.9 0.94 1339.72\\n',\n",
       " '0.41 0.06 169.88\\n',\n",
       " '0.52 0.17 276.05\\n',\n",
       " '0.47 0.66 517.43\\n',\n",
       " '0.65 0.43 522.25\\n',\n",
       " '0.85 0.64 932.21\\n']"
      ]
     },
     "execution_count": 2,
     "metadata": {},
     "output_type": "execute_result"
    }
   ],
   "source": [
    "# sample input\n",
    "with open('Office_Prices_input03.txt','r') as fh:\n",
    "     all_lines = fh.readlines()\n",
    "all_lines[0:20]"
   ]
  },
  {
   "cell_type": "markdown",
   "metadata": {},
   "source": [
    "For Polynomial regression, the features are pre-processed with a polynomial model to make them linear. The polynomial degree is always < 4.\n",
    "\n",
    "Then, a linear model can be applied to the linear data.\n",
    "\n",
    "However, the testing features have to be brought from polynomial to linear space first to make predictions."
   ]
  },
  {
   "cell_type": "code",
   "execution_count": 15,
   "metadata": {},
   "outputs": [
    {
     "name": "stdout",
     "output_type": "stream",
     "text": [
      "180.3768244254237\n",
      "1312.0650596555415\n",
      "440.12925329791335\n",
      "343.7153800758425\n"
     ]
    }
   ],
   "source": [
    "# Enter your code here. Read input from STDIN. Print output to STDOUT\n",
    "\n",
    "import fileinput\n",
    "from sklearn.linear_model import LinearRegression\n",
    "from sklearn.preprocessing import PolynomialFeatures\n",
    "\n",
    "# Extract the Training and Testing data\n",
    "training_feature = []\n",
    "training_label = []\n",
    "testing_feature = []\n",
    "i=-1 # counter start value for first line\n",
    "\n",
    "for line in all_lines:\n",
    "    # read F and N from first line\n",
    "    if i == -1:\n",
    "        F_features = int(line.split(\" \")[0])\n",
    "        N_samples = int((line.split(\" \")[1]))\n",
    "        i = 0\n",
    "        \n",
    "    # read training samples and fill into feature and label vectors\n",
    "    elif i < N_samples:\n",
    "        split_line = [float(x) for x in line.split(\" \")]\n",
    "        training_feature.append(split_line[0:-1])\n",
    "        training_label.append(split_line[-1])\n",
    "        i += 1\n",
    "        \n",
    "    # read test samples\n",
    "    else:\n",
    "        split_line = [float(x) for x in line.split(\" \")]\n",
    "        # ignore the line with the single digit T\n",
    "        if len(split_line) > 1:\n",
    "            testing_feature.append(split_line)\n",
    "\n",
    "# Preprocessing training features with polynomial model to linear features\n",
    "poly = PolynomialFeatures(degree=3)\n",
    "processed_training_feature = poly.fit_transform(training_feature)\n",
    "\n",
    "# Build linear model\n",
    "linear = LinearRegression()\n",
    "linear.fit(processed_training_feature, training_label)\n",
    "\n",
    "# Preprocessing testing features with poly to linear features\n",
    "testing_processed = poly.transform(testing_feature)\n",
    "\n",
    "# Predict the Output\n",
    "prediction = linear.predict(testing_processed)\n",
    "for pred in prediction:\n",
    "    print(pred)"
   ]
  }
 ],
 "metadata": {
  "kernelspec": {
   "display_name": "Python 3",
   "language": "python",
   "name": "python3"
  },
  "language_info": {
   "codemirror_mode": {
    "name": "ipython",
    "version": 3
   },
   "file_extension": ".py",
   "mimetype": "text/x-python",
   "name": "python",
   "nbconvert_exporter": "python",
   "pygments_lexer": "ipython3",
   "version": "3.7.7"
  }
 },
 "nbformat": 4,
 "nbformat_minor": 4
}
