{
 "cells": [
  {
   "cell_type": "markdown",
   "metadata": {},
   "source": [
    "# Multiple Linear Regression: Predicting House Prices\n",
    "\n",
    "https://www.hackerrank.com/challenges/predicting-house-prices/problem\n",
    "\n",
    "## Input Data\n",
    "First line (training set). F = number of features, N = number of samples in train set\n",
    "Eigth line (test set). T = number of samples in test set with F features\n",
    "\n",
    "All Features are already normalized 0 to 1."
   ]
  },
  {
   "cell_type": "code",
   "execution_count": 1,
   "metadata": {},
   "outputs": [
    {
     "data": {
      "text/plain": [
       "['2 7\\n',\n",
       " '0.18 0.89 109.85\\n',\n",
       " '1.0 0.26 155.72\\n',\n",
       " '0.92 0.11 137.66\\n',\n",
       " '0.07 0.37 76.17\\n',\n",
       " '0.85 0.16 139.75\\n',\n",
       " '0.99 0.41 162.6\\n',\n",
       " '0.87 0.47 151.77\\n',\n",
       " '4\\n',\n",
       " '0.49 0.18\\n',\n",
       " '0.57 0.83\\n',\n",
       " '0.56 0.64\\n',\n",
       " '0.76 0.18']"
      ]
     },
     "execution_count": 1,
     "metadata": {},
     "output_type": "execute_result"
    }
   ],
   "source": [
    "# sample input\n",
    "with open('House_pricing_testcase0.txt','r') as fh:\n",
    "     all_lines = fh.readlines()\n",
    "all_lines"
   ]
  },
  {
   "cell_type": "markdown",
   "metadata": {},
   "source": [
    "# Using txt input"
   ]
  },
  {
   "cell_type": "code",
   "execution_count": 2,
   "metadata": {},
   "outputs": [
    {
     "name": "stdout",
     "output_type": "stream",
     "text": [
      "105.21455835106944\n",
      "142.67095130729922\n",
      "132.93605469124694\n",
      "129.70175404502453\n"
     ]
    }
   ],
   "source": [
    "# Enter your code here. Read input from STDIN. Print output to STDOUT\n",
    "\n",
    "# open txt file\n",
    "with open('House_pricing_testcase0.txt','r') as fh:\n",
    "     all_lines = fh.readlines()\n",
    "\n",
    "import fileinput #stdin library\n",
    "from sklearn import datasets, linear_model\n",
    "from sklearn import linear_model\n",
    "\n",
    "# Extract the Training and Testing data\n",
    "training_feature = []\n",
    "training_label = []\n",
    "testing_feature = []\n",
    "i = -1 # counter start value for first line\n",
    "\n",
    "for line in all_lines:\n",
    "    # read F and N from first line\n",
    "    if i == -1:\n",
    "        F_features = int(line.split(\" \")[0])\n",
    "        N_samples = int((line.split(\" \")[1]))\n",
    "        i = 0\n",
    "        \n",
    "    # read training samples and fill into feature and label vectors\n",
    "    elif i < N_samples:\n",
    "        split_line = [float(x) for x in line.split(\" \")]\n",
    "        training_feature.append(split_line[0:-1])\n",
    "        training_label.append(split_line[-1])\n",
    "        i += 1\n",
    "        \n",
    "    # read test samples\n",
    "    else:\n",
    "        split_line = [float(x) for x in line.split(\" \")]\n",
    "        # ignore the line with the single digit T\n",
    "        if len(split_line) > 1:\n",
    "            testing_feature.append(split_line)\n",
    "            \n",
    "# Build the Model\n",
    "reg = linear_model.LinearRegression()\n",
    "reg.fit(training_feature, training_label)\n",
    "\n",
    "# Predict the Output\n",
    "prediction = reg.predict(testing_feature)\n",
    "for pred in prediction:\n",
    "    print(pred)"
   ]
  },
  {
   "cell_type": "markdown",
   "metadata": {},
   "source": [
    "# Using stdin input"
   ]
  },
  {
   "cell_type": "code",
   "execution_count": 3,
   "metadata": {},
   "outputs": [
    {
     "ename": "FileNotFoundError",
     "evalue": "[Errno 2] No such file or directory: '-f'",
     "output_type": "error",
     "traceback": [
      "\u001b[1;31m---------------------------------------------------------------------------\u001b[0m",
      "\u001b[1;31mFileNotFoundError\u001b[0m                         Traceback (most recent call last)",
      "\u001b[1;32m<ipython-input-3-84fd1ecbd6e0>\u001b[0m in \u001b[0;36m<module>\u001b[1;34m\u001b[0m\n\u001b[0;32m      9\u001b[0m \u001b[1;33m\u001b[0m\u001b[0m\n\u001b[0;32m     10\u001b[0m \u001b[0mi\u001b[0m\u001b[1;33m=\u001b[0m\u001b[1;33m-\u001b[0m\u001b[1;36m1\u001b[0m\u001b[1;33m\u001b[0m\u001b[1;33m\u001b[0m\u001b[0m\n\u001b[1;32m---> 11\u001b[1;33m \u001b[1;32mfor\u001b[0m \u001b[0mline\u001b[0m \u001b[1;32min\u001b[0m \u001b[0mfileinput\u001b[0m\u001b[1;33m.\u001b[0m\u001b[0minput\u001b[0m\u001b[1;33m(\u001b[0m\u001b[1;33m)\u001b[0m\u001b[1;33m:\u001b[0m\u001b[1;33m\u001b[0m\u001b[1;33m\u001b[0m\u001b[0m\n\u001b[0m\u001b[0;32m     12\u001b[0m     \u001b[1;31m# read F and N from first line\u001b[0m\u001b[1;33m\u001b[0m\u001b[1;33m\u001b[0m\u001b[1;33m\u001b[0m\u001b[0m\n\u001b[0;32m     13\u001b[0m     \u001b[1;32mif\u001b[0m \u001b[0mi\u001b[0m \u001b[1;33m==\u001b[0m \u001b[1;33m-\u001b[0m\u001b[1;36m1\u001b[0m\u001b[1;33m:\u001b[0m\u001b[1;33m\u001b[0m\u001b[1;33m\u001b[0m\u001b[0m\n",
      "\u001b[1;32m~\\Anaconda3\\lib\\fileinput.py\u001b[0m in \u001b[0;36m__next__\u001b[1;34m(self)\u001b[0m\n\u001b[0;32m    250\u001b[0m     \u001b[1;32mdef\u001b[0m \u001b[0m__next__\u001b[0m\u001b[1;33m(\u001b[0m\u001b[0mself\u001b[0m\u001b[1;33m)\u001b[0m\u001b[1;33m:\u001b[0m\u001b[1;33m\u001b[0m\u001b[1;33m\u001b[0m\u001b[0m\n\u001b[0;32m    251\u001b[0m         \u001b[1;32mwhile\u001b[0m \u001b[1;32mTrue\u001b[0m\u001b[1;33m:\u001b[0m\u001b[1;33m\u001b[0m\u001b[1;33m\u001b[0m\u001b[0m\n\u001b[1;32m--> 252\u001b[1;33m             \u001b[0mline\u001b[0m \u001b[1;33m=\u001b[0m \u001b[0mself\u001b[0m\u001b[1;33m.\u001b[0m\u001b[0m_readline\u001b[0m\u001b[1;33m(\u001b[0m\u001b[1;33m)\u001b[0m\u001b[1;33m\u001b[0m\u001b[1;33m\u001b[0m\u001b[0m\n\u001b[0m\u001b[0;32m    253\u001b[0m             \u001b[1;32mif\u001b[0m \u001b[0mline\u001b[0m\u001b[1;33m:\u001b[0m\u001b[1;33m\u001b[0m\u001b[1;33m\u001b[0m\u001b[0m\n\u001b[0;32m    254\u001b[0m                 \u001b[0mself\u001b[0m\u001b[1;33m.\u001b[0m\u001b[0m_filelineno\u001b[0m \u001b[1;33m+=\u001b[0m \u001b[1;36m1\u001b[0m\u001b[1;33m\u001b[0m\u001b[1;33m\u001b[0m\u001b[0m\n",
      "\u001b[1;32m~\\Anaconda3\\lib\\fileinput.py\u001b[0m in \u001b[0;36m_readline\u001b[1;34m(self)\u001b[0m\n\u001b[0;32m    362\u001b[0m                     \u001b[0mself\u001b[0m\u001b[1;33m.\u001b[0m\u001b[0m_file\u001b[0m \u001b[1;33m=\u001b[0m \u001b[0mself\u001b[0m\u001b[1;33m.\u001b[0m\u001b[0m_openhook\u001b[0m\u001b[1;33m(\u001b[0m\u001b[0mself\u001b[0m\u001b[1;33m.\u001b[0m\u001b[0m_filename\u001b[0m\u001b[1;33m,\u001b[0m \u001b[0mself\u001b[0m\u001b[1;33m.\u001b[0m\u001b[0m_mode\u001b[0m\u001b[1;33m)\u001b[0m\u001b[1;33m\u001b[0m\u001b[1;33m\u001b[0m\u001b[0m\n\u001b[0;32m    363\u001b[0m                 \u001b[1;32melse\u001b[0m\u001b[1;33m:\u001b[0m\u001b[1;33m\u001b[0m\u001b[1;33m\u001b[0m\u001b[0m\n\u001b[1;32m--> 364\u001b[1;33m                     \u001b[0mself\u001b[0m\u001b[1;33m.\u001b[0m\u001b[0m_file\u001b[0m \u001b[1;33m=\u001b[0m \u001b[0mopen\u001b[0m\u001b[1;33m(\u001b[0m\u001b[0mself\u001b[0m\u001b[1;33m.\u001b[0m\u001b[0m_filename\u001b[0m\u001b[1;33m,\u001b[0m \u001b[0mself\u001b[0m\u001b[1;33m.\u001b[0m\u001b[0m_mode\u001b[0m\u001b[1;33m)\u001b[0m\u001b[1;33m\u001b[0m\u001b[1;33m\u001b[0m\u001b[0m\n\u001b[0m\u001b[0;32m    365\u001b[0m         \u001b[0mself\u001b[0m\u001b[1;33m.\u001b[0m\u001b[0m_readline\u001b[0m \u001b[1;33m=\u001b[0m \u001b[0mself\u001b[0m\u001b[1;33m.\u001b[0m\u001b[0m_file\u001b[0m\u001b[1;33m.\u001b[0m\u001b[0mreadline\u001b[0m  \u001b[1;31m# hide FileInput._readline\u001b[0m\u001b[1;33m\u001b[0m\u001b[1;33m\u001b[0m\u001b[0m\n\u001b[0;32m    366\u001b[0m         \u001b[1;32mreturn\u001b[0m \u001b[0mself\u001b[0m\u001b[1;33m.\u001b[0m\u001b[0m_readline\u001b[0m\u001b[1;33m(\u001b[0m\u001b[1;33m)\u001b[0m\u001b[1;33m\u001b[0m\u001b[1;33m\u001b[0m\u001b[0m\n",
      "\u001b[1;31mFileNotFoundError\u001b[0m: [Errno 2] No such file or directory: '-f'"
     ]
    }
   ],
   "source": [
    "import fileinput #stdin library\n",
    "from sklearn import datasets, linear_model\n",
    "from sklearn import linear_model\n",
    "\n",
    "# Extract the Training and Testing data\n",
    "training_feature = []\n",
    "training_label = []\n",
    "testing_feature = []\n",
    "\n",
    "i=-1\n",
    "for line in fileinput.input():\n",
    "    # read F and N from first line\n",
    "    if i == -1:\n",
    "        n_features = int(line.split(\" \")[0])\n",
    "        n_samples = int((line.split(\" \")[1]))\n",
    "        i = 0\n",
    "    # read training samples and fill into feature and label vectors\n",
    "    elif i < n_samples:\n",
    "        split_line = [float(x) for x in line.split(\" \")]\n",
    "        training_feature.append(split_line[0:-1])\n",
    "        training_label.append(split_line[-1])\n",
    "        i += 1\n",
    "    # read test samples\n",
    "    else:\n",
    "        split_line = [float(x) for x in line.split(\" \")]\n",
    "        # ignore the line with the single digit T\n",
    "        if len(split_line) > 1:\n",
    "            testing_feature.append(split_line)\n",
    "            \n",
    "# Build the Model\n",
    "reg = linear_model.LinearRegression()\n",
    "reg.fit(training_feature, training_label)\n",
    "\n",
    "# Predict the Output\n",
    "prediction = reg.predict(testing_feature)\n",
    "for pred in prediction:\n",
    "    print(pred)"
   ]
  }
 ],
 "metadata": {
  "kernelspec": {
   "display_name": "Python 3",
   "language": "python",
   "name": "python3"
  },
  "language_info": {
   "codemirror_mode": {
    "name": "ipython",
    "version": 3
   },
   "file_extension": ".py",
   "mimetype": "text/x-python",
   "name": "python",
   "nbconvert_exporter": "python",
   "pygments_lexer": "ipython3",
   "version": "3.7.7"
  }
 },
 "nbformat": 4,
 "nbformat_minor": 4
}
