{
 "cells": [
  {
   "cell_type": "markdown",
   "metadata": {},
   "source": [
    "# Document Classification\n",
    "\n",
    "https://www.hackerrank.com/challenges/document-classification/problem\n",
    "\n",
    "## Input Data\n",
    "\n",
    "First line T = number of samples.\n",
    "\n",
    "Following lines will contain a number (1-8), which is the category number. The number will be followed by a space and the document contents.\n",
    "\n",
    "The training file will be included in the environment at runtime and will be named \"trainingdata.txt\". The testing data will be loaded with stdin."
   ]
  },
  {
   "cell_type": "code",
   "execution_count": 1,
   "metadata": {},
   "outputs": [
    {
     "data": {
      "text/plain": [
       "['5485\\n',\n",
       " '1 champion products ch approves stock split champion products inc said its board of directors approved a two for one stock split of its common shares for shareholders of record as of april the company also said its board voted to recommend to shareholders at the annual meeting april an increase in the authorized capital stock from five mln to mln shares reuter \\n',\n",
       " '2 computer terminal systems cpml completes sale computer terminal systems inc said it has completed the sale of shares of its common stock and warrants to acquire an additional one mln shares to sedio n v of lugano switzerland for dlrs the company said the warrants are exercisable for five years at a purchase price of dlrs per share computer terminal said sedio also has the right to buy additional shares and increase its total holdings up to pct of the computer terminal s outstanding common stock under certain circumstances involving change of control at the company the company said if the conditions occur the warrants would be exercisable at a price equal to pct of its common stock s market price at the time not to exceed dlrs per share computer terminal also said it sold the technolgy rights to its dot matrix impact technology including any future improvements to woodco inc of houston tex for dlrs but it said it would continue to be the exclusive worldwide licensee of the technology for woodco the company said the moves were part of its reorganization plan and would help pay current operation costs and ensure product delivery computer terminal makes computer generated labels forms tags and ticket printers and terminals reuter \\n',\n",
       " '1 cobanco inc cbco year net shr cts vs dlrs net vs assets mln vs mln deposits mln vs mln loans mln vs mln note th qtr not available year includes extraordinary gain from tax carry forward of dlrs or five cts per shr reuter \\n',\n",
       " '1 am international inc am nd qtr jan oper shr loss two cts vs profit seven cts oper shr profit vs profit revs mln vs mln avg shrs mln vs mln six mths oper shr profit nil vs profit cts oper net profit vs profit revs mln vs mln avg shrs mln vs mln note per shr calculated after payment of preferred dividends results exclude credits of or four cts and or nine cts for qtr and six mths vs or six cts and or cts for prior periods from operating loss carryforwards reuter \\n',\n",
       " '1 brown forman inc bfd th qtr net shr one dlr vs cts net mln vs mln revs mln vs mln nine mths shr dlrs vs dlrs net mln vs mln revs billion vs mln reuter \\n',\n",
       " '1 dean foods df sees strong th qtr earnings dean foods co expects earnings for the fourth quarter ending may to exceed those of the same year ago period chairman kenneth douglas told analysts in the fiscal fourth quarter the food processor reported earnings of cts a share douglas also said the year s sales should exceed billion dlrs up from billion dlrs the prior year he repeated an earlier projection that third quarter earnings will probably be off slightly from last year s cts a share falling in the range of cts to cts a share douglas said it was too early to project whether the anticipated fourth quarter performance would be enough for us to exceed the prior year s overall earnings of dlrs a share in douglas said dean should experience a pct improvement in our bottom line from effects of the tax reform act alone president howard dean said in fiscal the company will derive benefits of various dairy and frozen vegetable acquisitions from ryan milk to the larsen co dean also said the company will benefit from its acquisition in late december of elgin blenders inc west chicago he said the company is a major shareholder of e b i foods ltd a united kingdom blender and has licensing arrangements in australia canada brazil and japan it provides ann entry to mcdonalds corp mcd we ve been after for years douglas told analysts reuter \\n',\n",
       " '1 brown forman bfdb sets stock split ups payout brown forman inc said its board has approved a three for two stock split and a pct increase in the company cash dividend the company cited its improved earnings outlook and continued strong cash flow as reasons for raising the dividend brown forman said the split of its class a and class b common shares would be effective march the company said directors declared a quarterly cash dividend on each new share of both classes of cts payable april one to holders of record march prior to the split the company had paid cts quarterly brown forman today reported a pct increase in third quarter profits to mln dlrs or dlr a share on a seven pct increase in sales to a record mln dlrs brown forman said nine month profits declined a bit to mln dlrs or dlrs a share from mln dlrs or dlrs a share a year earlier due to a second quarter charge of cts a share for restructuring its beverage operations the company said lower corporate tax rates and the restructuring are expected to substantially improve brown forman s earnings and cash flow in fiscal reuter \\n',\n",
       " '1 esquire radio and electronics inc ee th qtr shr profit cts vs profit four cts annual div cts vs cts prior yr net profit vs profit revs vs mths shr profit cts vs loss cts net profit vs loss revs mln vs note annual dividend payable april to stockholders of record on march reuter \\n',\n",
       " '1 united presidential corp upco th qtr net shr cts vs cts net vs revs mln vs mln year shr dlrs vs dlrs net vs revs mln vs mln note results include adjustment of dlrs or cts shr for year and both periods from improvement in results of its universal life business than first estimated reuter \\n',\n",
       " '1 owens and minor inc obod raises qtly dividend qtly div eights cts vs cts prior pay march record march reuter \\n',\n",
       " '1 computer language research in clri th qtr shr loss cts vs loss cts net loss vs loss revs mln vs mln qtly div three cts vs three cts prior year shr profit two cts vs profit cts net profit vs profit revs mln vs mln note dividend payable april one to shareholders of record march reuter \\n',\n",
       " '1 cinram ltd th qtr net shr cts vs cts net mln vs sales mln vs mln avg shrs vs year shr dlrs vs dlrs net mln vs mln sales mln vs mln avg shrs vs reuter \\n',\n",
       " '1 standard trustco sees better year standard trustco said it expects earnings in to increase at least to pct from the dlrs or dlrs per share recorded in stable interest rates and a growing economy are expected to provide favorable conditions for further growth in president brian o malley told shareholders at the annual meeting standard trustco previously reported assets of billion dlrs in up from billion dlrs in return on common shareholders equity was pct last year up from pct in reuter \\n',\n",
       " '1 handy and harman hnh th qtr loss shr loss cts vs loss three cts net loss vs loss rev mln vs mln months shr loss cts vs profit cts net loss vs profit rev mln vs mln note net loss for th qtr includes charge for restructuring of mln dlrs after tax or cts a share net loss includes after tax special charge of mln dlrs or cts a share reuter \\n',\n",
       " '2 chemlawn chem rises on hopes for higher bids chemlawn corp chem could attract a higher bid than the dlrs per share offered by waste management inc wnx wall street arbitrageurs said shares of chemlawn shot up to in over the counter trading with mln of the company s mln shares changing hands by late afternoon this company could go for times cash flow or dlrs maybe dollars depending on whether there is a competing bidder an arbitrageur said waste management s tender offer announced before the opening today expires march this is totally by surprise said debra strohmaier a chemlawn spokeswoman the company s board held a regularly scheduled meeting today and was discussing the waste management announcement she said a statement was expected but it was not certain when it would be ready she was unable to say if there had been any prior contact between waste management and chemlawn officials i think they will resist it said elliott schlang analyst at prescott ball and turben inc any company that doesn t like a surprise attack would arbitrageurs pointed out it is difficult to resist tender offers for any and all shares for cash schlang said chemlawn could try to find a white knight if does not want to be acquired by waste management analyst rosemarie morbelli of ingalls and snyder said servicemaster companies l p svm or rollins inc rol were examples of companies that could be interested chemlawn with about two mln customers is the largest u s company involved in application of fertilizers pesticides and herbicides on lawns waste management is involved in removal of wastes schlang said chemlawn s customer base could be valuable to another company that wants to capitalize on a strong residential and commercial distribution system both schlang and morbelli noted that high growth rates had catapulted chemlawn s share price into the mid s in but the stock languished as the rate of growth slowed schlang said the company s profits are concentrated in the fourth quarter in chemlawn earned dlrs per share for the full year and dlrs in the fourth quarter morbelli noted chemlawn competes with thousands of individual entrepreuers who offer lawn and garden care sevice reuter \\n',\n",
       " '3 brazil anti inflation plan limps to anniversary inflation plan initially hailed at home and abroad as the saviour of the economy is limping towards its first anniversary amid soaring prices widespread shortages and a foreign payments crisis announced last february the plan froze prices fixed the value of the new cruzado currency and ended widespread indexation of the economy in a bid to halt the country s pct inflation rate but within a year the plan has all but collapsed the situation now is worse than it was although there was inflation at least the economy worked a leading bank economist said the crumbling of the plan has been accompanied by a dramatic reversal in the foreign trade account in and brazil s annual trade surpluses had been sufficient to cover the billion dlrs needed to service its billion dlr foreign debt for the first nine months of all seemed to be on target for a repeat with monthly surpluses averaging one billion dlrs but as exports were diverted and imports increased to avoid further domestic shortages the trade surplus plunged to mln dlrs in october and since then has averaged under mln reuter \\n',\n",
       " '4 agency reports ships waiting at panama canal the panama canal commission a u s government agency said in its daily operations report that there was a backlog of ships waiting to enter the canal early today over the next two days it expects due scheduled to transit end day backlog average waiting time tomorrow super tankers regular vessels north end hrs hrs south end hrs hrs reuter \\n',\n",
       " '1 america first mortgage sets special payout america first federally guaranteed mortgage fund two said it is making a special distribution of cts per exchangeable unit which includes cts from return on capital and cts from income gains reuter \\n',\n",
       " '1 emhart corp emh qtly dividend qtly div cts vs cts prior payable march record march nine reuter \\n']"
      ]
     },
     "execution_count": 1,
     "metadata": {},
     "output_type": "execute_result"
    }
   ],
   "source": [
    "# trainin sample input\n",
    "with open('Document_Classification_trainingdata.txt','r') as fh:\n",
    "     training_data = fh.readlines()\n",
    "training_data[:20]"
   ]
  },
  {
   "cell_type": "code",
   "execution_count": 2,
   "metadata": {},
   "outputs": [
    {
     "data": {
      "text/plain": [
       "['3 \\n',\n",
       " 'This is a document \\n',\n",
       " 'this is another document \\n',\n",
       " 'documents are seperated by newlines']"
      ]
     },
     "execution_count": 2,
     "metadata": {},
     "output_type": "execute_result"
    }
   ],
   "source": [
    "# testing sample input\n",
    "with open('Document_Classification_testingdata_input03.txt','r') as fh:\n",
    "     testing_data = fh.readlines()\n",
    "testing_data"
   ]
  },
  {
   "cell_type": "markdown",
   "metadata": {},
   "source": [
    "## Using local training txt"
   ]
  },
  {
   "cell_type": "code",
   "execution_count": 3,
   "metadata": {},
   "outputs": [
    {
     "name": "stdout",
     "output_type": "stream",
     "text": [
      "2\n",
      "2\n",
      "2\n"
     ]
    }
   ],
   "source": [
    "import numpy as np\n",
    "from sklearn.feature_extraction.text import TfidfVectorizer\n",
    "from sklearn.linear_model import SGDClassifier\n",
    "from sklearn.metrics import accuracy_score\n",
    "\n",
    "# load training data\n",
    "n_training = int(training_data[0])\n",
    "\n",
    "training_class = [x.split(\" \")[0] for x in training_data[1:]]\n",
    "\n",
    "training_text  = []\n",
    "for line in training_data[1:]:\n",
    "    training_text.append(line[2:].rstrip(\" \\n\"))\n",
    "\n",
    "\n",
    "# Load testing data\n",
    "i = -1\n",
    "testing_text = []\n",
    "\n",
    "for line in testing_data:\n",
    "    # first line contains number of testing samples\n",
    "    if i == -1:\n",
    "        n_test = int(line)\n",
    "        i += 1\n",
    "    # all following lines, make lowercase\n",
    "    else:\n",
    "        testing_text.append(line.lower().rstrip(\" \\n\"))\n",
    "\n",
    "\n",
    "# preprocess / vectorize training text        \n",
    "max_range = 1\n",
    "vectorizer = TfidfVectorizer(ngram_range=(1,max_range), max_df=0.9, stop_words='english', use_idf='True')\n",
    "vectorized_train = vectorizer.fit_transform(training_text)\n",
    "\n",
    "# train model\n",
    "classifier = SGDClassifier()\n",
    "classifier.fit(vectorized_train, training_class)\n",
    "\n",
    "y_hat_train = classifier.predict(vectorized_train)\n",
    "#print(\"train accuracy: \",accuracy_score(training_class, y_hat_train))\n",
    "\n",
    "\n",
    "\n",
    "# preprocess / vectorize testing text\n",
    "vectorized_test  = vectorizer.transform(testing_text)\n",
    "\n",
    "test_class = [1,4,8]\n",
    "# predict testing set classes\n",
    "y_hat_test = classifier.predict(vectorized_test)\n",
    "#print(\"test accuracy: \",accuracy_score(test_class, y_hat_test))\n",
    "\n",
    "for pred in y_hat_test:\n",
    "    print(pred)"
   ]
  },
  {
   "cell_type": "markdown",
   "metadata": {},
   "source": [
    "## Using environment txt file for train, stdin for test"
   ]
  },
  {
   "cell_type": "code",
   "execution_count": 4,
   "metadata": {},
   "outputs": [
    {
     "ename": "FileNotFoundError",
     "evalue": "[Errno 2] No such file or directory: 'trainingdata.txt'",
     "output_type": "error",
     "traceback": [
      "\u001b[1;31m---------------------------------------------------------------------------\u001b[0m",
      "\u001b[1;31mFileNotFoundError\u001b[0m                         Traceback (most recent call last)",
      "\u001b[1;32m<ipython-input-4-748cf6d0c5f4>\u001b[0m in \u001b[0;36m<module>\u001b[1;34m\u001b[0m\n\u001b[0;32m      8\u001b[0m \u001b[1;33m\u001b[0m\u001b[0m\n\u001b[0;32m      9\u001b[0m \u001b[1;31m# load text file loaded in environment\u001b[0m\u001b[1;33m\u001b[0m\u001b[1;33m\u001b[0m\u001b[1;33m\u001b[0m\u001b[0m\n\u001b[1;32m---> 10\u001b[1;33m \u001b[1;32mwith\u001b[0m \u001b[0mopen\u001b[0m\u001b[1;33m(\u001b[0m\u001b[1;34m'trainingdata.txt'\u001b[0m\u001b[1;33m,\u001b[0m\u001b[1;34m'r'\u001b[0m\u001b[1;33m)\u001b[0m \u001b[1;32mas\u001b[0m \u001b[0mfh\u001b[0m\u001b[1;33m:\u001b[0m\u001b[1;33m\u001b[0m\u001b[1;33m\u001b[0m\u001b[0m\n\u001b[0m\u001b[0;32m     11\u001b[0m      \u001b[0mtraining_data\u001b[0m \u001b[1;33m=\u001b[0m \u001b[0mfh\u001b[0m\u001b[1;33m.\u001b[0m\u001b[0mreadlines\u001b[0m\u001b[1;33m(\u001b[0m\u001b[1;33m)\u001b[0m\u001b[1;33m\u001b[0m\u001b[1;33m\u001b[0m\u001b[0m\n\u001b[0;32m     12\u001b[0m \u001b[1;33m\u001b[0m\u001b[0m\n",
      "\u001b[1;31mFileNotFoundError\u001b[0m: [Errno 2] No such file or directory: 'trainingdata.txt'"
     ]
    }
   ],
   "source": [
    "# Enter your code here. Read input from STDIN. Print output to STDOUT\n",
    "\n",
    "import fileinput\n",
    "from sklearn.feature_extraction.text import TfidfVectorizer\n",
    "from sklearn.linear_model import SGDClassifier\n",
    "from sklearn.metrics import accuracy_score\n",
    "\n",
    "\n",
    "# load text file loaded in environment\n",
    "with open('trainingdata.txt','r') as fh:\n",
    "     training_data = fh.readlines()\n",
    "\n",
    "# load training data\n",
    "n_training = int(training_data[0])\n",
    "\n",
    "training_class = [x.split(\" \")[0] for x in training_data[1:]]\n",
    "\n",
    "training_text  = []\n",
    "for line in training_data[1:]:\n",
    "    training_text.append(line[2:].rstrip(\" \\n\"))\n",
    "\n",
    "\n",
    "    \n",
    "# Load testing data\n",
    "i = -1\n",
    "testing_text = []\n",
    "\n",
    "for line in fileinput.input():\n",
    "    # first line contains number of testing samples\n",
    "    if i == -1:\n",
    "        n_test = int(line)\n",
    "        i += 1\n",
    "    # all following lines, make lowercase\n",
    "    else:\n",
    "        testing_text.append(line.lower().rstrip(\" \\n\"))\n",
    "\n",
    "\n",
    "# preprocess / vectorize training text        \n",
    "max_range = 1\n",
    "vectorizer = TfidfVectorizer(ngram_range=(1,max_range), max_df=0.9, stop_words='english', use_idf='True')\n",
    "vectorized_train = vectorizer.fit_transform(training_text)\n",
    "\n",
    "# train model\n",
    "classifier = SGDClassifier()\n",
    "classifier.fit(vectorized_train, training_class)\n",
    "\n",
    "y_hat_train = classifier.predict(vectorized_train)\n",
    "#print(\"train accuracy: \",accuracy_score(training_class, y_hat_train))\n",
    "\n",
    "\n",
    "\n",
    "# preprocess / vectorize testing text\n",
    "vectorized_test  = vectorizer.transform(testing_text)\n",
    "\n",
    "test_class = [1,4,8]\n",
    "# predict testing set classes\n",
    "y_hat_test = classifier.predict(vectorized_test)\n",
    "#print(\"test accuracy: \",accuracy_score(test_class, y_hat_test))\n",
    "\n",
    "for pred in y_hat_test:\n",
    "    print(pred)"
   ]
  }
 ],
 "metadata": {
  "kernelspec": {
   "display_name": "Python 3",
   "language": "python",
   "name": "python3"
  },
  "language_info": {
   "codemirror_mode": {
    "name": "ipython",
    "version": 3
   },
   "file_extension": ".py",
   "mimetype": "text/x-python",
   "name": "python",
   "nbconvert_exporter": "python",
   "pygments_lexer": "ipython3",
   "version": "3.7.7"
  }
 },
 "nbformat": 4,
 "nbformat_minor": 4
}
