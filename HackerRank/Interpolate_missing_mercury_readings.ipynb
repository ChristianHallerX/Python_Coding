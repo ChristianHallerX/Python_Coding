{
 "cells": [
  {
   "cell_type": "markdown",
   "metadata": {},
   "source": [
    "# Interpolate Missing Mercury Readings\n",
    "\n",
    "A variation on Missing Stock Prices https://www.hackerrank.com/challenges/missing-stock-prices/problem\n",
    "\n",
    "## Input Data\n",
    "\n",
    "The dataset contains rows with missing labels.\n",
    "\n",
    "The rows with labels are the train set.\n",
    "\n",
    "Rows with missing label are the test set.\n",
    "\n",
    "Predict the label for the test set with an Univariate Spline model from SciPy."
   ]
  },
  {
   "cell_type": "code",
   "execution_count": 1,
   "metadata": {},
   "outputs": [
    {
     "data": {
      "text/plain": [
       "['250\\n',\n",
       " '1/3/2012 16:00:00\\t26.96\\n',\n",
       " '1/4/2012 16:00:00\\t27.47\\n',\n",
       " '1/5/2012 16:00:00\\t27.728\\n',\n",
       " '1/6/2012 16:00:00\\t28.19\\n',\n",
       " '1/9/2012 16:00:00\\t28.1\\n',\n",
       " '1/10/2012 16:00:00\\t28.15\\n',\n",
       " '1/11/2012 16:00:00\\t27.98\\n',\n",
       " '1/12/2012 16:00:00\\t28.02\\n',\n",
       " '1/13/2012 16:00:00\\t28.25\\n',\n",
       " '1/17/2012 16:00:00\\t28.65\\n',\n",
       " '1/18/2012 16:00:00\\t28.4\\n',\n",
       " '1/19/2012 16:00:00\\t28.435\\n',\n",
       " '1/20/2012 16:00:00\\t29.74\\n',\n",
       " '1/23/2012 16:00:00\\t29.95\\n',\n",
       " '1/24/2012 16:00:00\\t29.5703\\n',\n",
       " '1/25/2012 16:00:00\\t29.65\\n',\n",
       " '1/26/2012 16:00:00\\t29.7\\n',\n",
       " '1/27/2012 16:00:00\\t29.53\\n',\n",
       " '1/30/2012 16:00:00\\t29.62\\n']"
      ]
     },
     "execution_count": 1,
     "metadata": {},
     "output_type": "execute_result"
    }
   ],
   "source": [
    "with open('Interpolate_missing_mercury_readings_testcase0.txt','r') as fh:\n",
    "     all_lines = fh.readlines()\n",
    "all_lines[0:20]"
   ]
  },
  {
   "cell_type": "markdown",
   "metadata": {},
   "source": [
    "## Define function"
   ]
  },
  {
   "cell_type": "code",
   "execution_count": 2,
   "metadata": {},
   "outputs": [],
   "source": [
    "def calcMissing(readings):\n",
    "    from scipy import interpolate\n",
    "    import fileinput\n",
    "    \n",
    "    # extract the mercury values from readings\n",
    "    mercury = []\n",
    "    iterator = iter(readings)\n",
    "    next(iterator)\n",
    "    \n",
    "    for line in iterator:\n",
    "        mercury.append(line.split(\"\\t\")[1])\n",
    "    \n",
    "    # create train and test sets -> test set will be missing data to be predicted\n",
    "    # feature = mercury value as string, label = mercury value as float\n",
    "    training_feature = []\n",
    "    training_label = []\n",
    "    testing_feature = []\n",
    "    \n",
    "    for i in range(len(mercury)):\n",
    "        # rule for training set (not missing data)\n",
    "        if not \"Missing_\" in mercury[i]:\n",
    "            training_feature.append(i)\n",
    "            training_label.append(float(mercury[i]))\n",
    "        # rule for test set (missing data)\n",
    "        else:\n",
    "            testing_feature.append(i)\n",
    "    \n",
    "    # create interpolation model, s=smoothing factor\n",
    "    model = interpolate.UnivariateSpline(training_feature, training_label, s=1)\n",
    "    \n",
    "    #print(testing_feature)\n",
    "    # predict values\n",
    "    for value in testing_feature:\n",
    "        print(model(value))"
   ]
  },
  {
   "cell_type": "markdown",
   "metadata": {},
   "source": [
    "## Run function on txt data"
   ]
  },
  {
   "cell_type": "code",
   "execution_count": 3,
   "metadata": {},
   "outputs": [
    {
     "name": "stdout",
     "output_type": "stream",
     "text": [
      "32.580385761388015\n",
      "32.050720262925125\n",
      "32.45002155658685\n",
      "29.209850995219142\n",
      "28.892045695131124\n",
      "28.63291932863315\n",
      "30.490909482011936\n",
      "29.857748021087247\n",
      "29.593285933604072\n",
      "30.846676874368473\n",
      "31.153057840313153\n",
      "31.551806466129122\n",
      "29.669823581213752\n",
      "29.415464692366008\n",
      "29.486260865640396\n",
      "29.042171435330964\n",
      "29.884645543946384\n",
      "28.15403007715136\n",
      "26.85690371391398\n",
      "27.33965988110943\n"
     ]
    }
   ],
   "source": [
    "calcMissing(all_lines)"
   ]
  }
 ],
 "metadata": {
  "kernelspec": {
   "display_name": "Python 3",
   "language": "python",
   "name": "python3"
  },
  "language_info": {
   "codemirror_mode": {
    "name": "ipython",
    "version": 3
   },
   "file_extension": ".py",
   "mimetype": "text/x-python",
   "name": "python",
   "nbconvert_exporter": "python",
   "pygments_lexer": "ipython3",
   "version": "3.7.7"
  }
 },
 "nbformat": 4,
 "nbformat_minor": 4
}
