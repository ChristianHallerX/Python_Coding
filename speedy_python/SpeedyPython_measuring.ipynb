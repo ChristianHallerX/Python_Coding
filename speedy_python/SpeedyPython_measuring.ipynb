{
 "cells": [
  {
   "cell_type": "markdown",
   "id": "general-purchase",
   "metadata": {},
   "source": [
    "# Speedy Python\n",
    "\n",
    "Some examples how to measure speed and memory usage.\n",
    "\n",
    "Comparisons include how to speed up or replace loops with built-in functions or NumPy arrays."
   ]
  },
  {
   "cell_type": "markdown",
   "id": "consecutive-deployment",
   "metadata": {},
   "source": [
    "## Timeit\n",
    "**Line Magic**"
   ]
  },
  {
   "cell_type": "code",
   "execution_count": 1,
   "id": "searching-noise",
   "metadata": {},
   "outputs": [
    {
     "name": "stdout",
     "output_type": "stream",
     "text": [
      "52.8 ns ± 5.29 ns per loop (mean ± std. dev. of 7 runs, 10000000 loops each)\n"
     ]
    }
   ],
   "source": [
    "# default params\n",
    "%timeit lambda: \"-\".join(map(str, range(10000)))"
   ]
  },
  {
   "cell_type": "code",
   "execution_count": 2,
   "id": "human-beaver",
   "metadata": {},
   "outputs": [
    {
     "name": "stdout",
     "output_type": "stream",
     "text": [
      "40.5 ns ± 0.143 ns per loop (mean ± std. dev. of 10 runs, 1000 loops each)\n"
     ]
    }
   ],
   "source": [
    "# custom params\n",
    "%timeit -r 10 -n 1000 lambda: \"-\".join(map(str, range(10000)))"
   ]
  },
  {
   "cell_type": "markdown",
   "id": "intended-hybrid",
   "metadata": {},
   "source": [
    "**Cell magic**\n",
    "\n",
    "Note: the magic command has to be in the first line of the cell or it won't work"
   ]
  },
  {
   "cell_type": "code",
   "execution_count": 3,
   "id": "accomplished-engagement",
   "metadata": {},
   "outputs": [
    {
     "name": "stdout",
     "output_type": "stream",
     "text": [
      "3.43 ms ± 96.4 µs per loop (mean ± std. dev. of 7 runs, 100 loops each)\n"
     ]
    }
   ],
   "source": [
    "%%timeit\n",
    "total = 0\n",
    "for i in range(100):\n",
    "    for j in range(100):\n",
    "        total += i * (-1) ** j"
   ]
  },
  {
   "cell_type": "markdown",
   "id": "plastic-fraud",
   "metadata": {},
   "source": [
    "## Example Setup"
   ]
  },
  {
   "cell_type": "code",
   "execution_count": 4,
   "id": "chicken-riverside",
   "metadata": {},
   "outputs": [
    {
     "name": "stdout",
     "output_type": "stream",
     "text": [
      "List ['Axofhxrnjp', 'Cepvntlcjy', 'Upyxcbnexw', 'Wrwmyunqpf', 'Gciqvwewke']\n",
      "NumPy Array ['Axofhxrnjp' 'Cepvntlcjy' 'Upyxcbnexw' 'Wrwmyunqpf' 'Gciqvwewke']\n"
     ]
    }
   ],
   "source": [
    "import random\n",
    "import string\n",
    "import numpy as np\n",
    "\n",
    "# a function that generates a random numeric and alphabetical an numeric string\n",
    "def randStr(chars = string.ascii_lowercase, N=10):\n",
    "    return ''.join(random.choice(chars) for _ in range(N)).title()\n",
    "\n",
    "def randNamegen(count=1000, length=10):\n",
    "    nameList=[]\n",
    "    for i in range(count):\n",
    "        nameList.append(randStr(N=length))\n",
    "    return nameList\n",
    "\n",
    "nameList = randNamegen(count=100000)\n",
    "print(\"List\",nameList[:5])\n",
    "\n",
    "nameList_np = np.array(nameList)\n",
    "print(\"NumPy Array\",nameList_np[:5])"
   ]
  },
  {
   "cell_type": "code",
   "execution_count": 5,
   "id": "armed-cleanup",
   "metadata": {},
   "outputs": [
    {
     "name": "stdout",
     "output_type": "stream",
     "text": [
      "List [263, 209, 156, 218, 295]\n",
      "NumPy Array [263 209 156 218 295]\n"
     ]
    }
   ],
   "source": [
    "# a function that generates randomized people's heights in centimeters\n",
    "def randHTgen(count=1000, lower=150, upper=300):\n",
    "    HTList=[]\n",
    "    for i in range(count):\n",
    "        HTList.append(random.randint(lower, upper))\n",
    "    return HTList\n",
    "\n",
    "HTList = randHTgen(count=100000)\n",
    "print(\"List\",HTList[:5])\n",
    "\n",
    "HTList_np = np.array(HTList)\n",
    "print(\"NumPy Array\",HTList_np[:5])"
   ]
  },
  {
   "cell_type": "code",
   "execution_count": 6,
   "id": "peripheral-isolation",
   "metadata": {},
   "outputs": [
    {
     "name": "stdout",
     "output_type": "stream",
     "text": [
      "List [66, 120, 102, 74, 71]\n",
      "NumPy Array [ 66 120 102  74  71]\n"
     ]
    }
   ],
   "source": [
    "# a function that generates a range of random people wights in kilogramm\n",
    "def randWTgen(count=1000, lower=50, upper=150):\n",
    "    WTList=[]\n",
    "    for i in range(count):\n",
    "        WTList.append(random.randint(lower, upper))\n",
    "    return WTList\n",
    "\n",
    "WTList = randWTgen(count=100000)\n",
    "print(\"List\",WTList[:5])\n",
    "\n",
    "WTList_np = np.array(WTList)\n",
    "print(\"NumPy Array\",WTList_np[:5])"
   ]
  },
  {
   "cell_type": "markdown",
   "id": "motivated-liverpool",
   "metadata": {},
   "source": [
    "**The example function converts the heights from centimeter to feet and weights from kilograms to pounds.**"
   ]
  },
  {
   "cell_type": "code",
   "execution_count": 7,
   "id": "floral-entertainment",
   "metadata": {},
   "outputs": [],
   "source": [
    "# a function for measuring (list comprehension)\n",
    "def convert_units_list(names, heights, weights):\n",
    "    new_hts = [ht * 0.39370  for ht in heights]\n",
    "    new_wts = [wt * 2.20462  for wt in weights]\n",
    "    people_data = {}\n",
    "    for i,name in enumerate(names):\n",
    "        people_data[name] = (new_hts[i], new_wts[i])\n",
    "    return people_data"
   ]
  },
  {
   "cell_type": "code",
   "execution_count": 8,
   "id": "olive-content",
   "metadata": {},
   "outputs": [],
   "source": [
    "# a function for measuring (NumPy array broadcasting)\n",
    "def convert_units_array(names, heights, weights):\n",
    "    new_hts = heights * 0.39370\n",
    "    new_wts = weights * 2.20462\n",
    "    people_data = {}\n",
    "    for i,name in enumerate(names):\n",
    "        people_data[name] = (new_hts[i], new_wts[i])\n",
    "    return people_data\n",
    "\n",
    "#convert_units_array(nameList_np, HTList_np, WTList_np)"
   ]
  },
  {
   "cell_type": "markdown",
   "id": "vertical-optimization",
   "metadata": {},
   "source": [
    "## Measurement Tools\n",
    "### Line Profiler"
   ]
  },
  {
   "cell_type": "code",
   "execution_count": 9,
   "id": "federal-absorption",
   "metadata": {},
   "outputs": [
    {
     "data": {
      "text/plain": [
       "Timer unit: 1e-07 s\n",
       "\n",
       "Total time: 0.208038 s\n",
       "File: <ipython-input-7-b143edde93f5>\n",
       "Function: convert_units_list at line 2\n",
       "\n",
       "Line #      Hits         Time  Per Hit   % Time  Line Contents\n",
       "==============================================================\n",
       "     2                                           def convert_units_list(names, heights, weights):\n",
       "     3         1     178665.0 178665.0      8.6      new_hts = [ht * 0.39370  for ht in heights]\n",
       "     4         1     182745.0 182745.0      8.8      new_wts = [wt * 2.20462  for wt in weights]\n",
       "     5         1         18.0     18.0      0.0      people_data = {}\n",
       "     6    100001     856760.0      8.6     41.2      for i,name in enumerate(names):\n",
       "     7    100000     862181.0      8.6     41.4          people_data[name] = (new_hts[i], new_wts[i])\n",
       "     8         1          8.0      8.0      0.0      return people_data"
      ]
     },
     "metadata": {},
     "output_type": "display_data"
    }
   ],
   "source": [
    "%load_ext line_profiler\n",
    "\n",
    "%lprun -f convert_units_list convert_units_list(nameList, HTList, WTList)"
   ]
  },
  {
   "cell_type": "code",
   "execution_count": 10,
   "id": "molecular-diagram",
   "metadata": {},
   "outputs": [
    {
     "data": {
      "text/plain": [
       "Timer unit: 1e-07 s\n",
       "\n",
       "Total time: 0.168481 s\n",
       "File: <ipython-input-8-5226aaf1be87>\n",
       "Function: convert_units_array at line 2\n",
       "\n",
       "Line #      Hits         Time  Per Hit   % Time  Line Contents\n",
       "==============================================================\n",
       "     2                                           def convert_units_array(names, heights, weights):\n",
       "     3         1       6052.0   6052.0      0.4      new_hts = heights * 0.39370\n",
       "     4         1       6017.0   6017.0      0.4      new_wts = weights * 2.20462\n",
       "     5         1         17.0     17.0      0.0      people_data = {}\n",
       "     6    100001     831242.0      8.3     49.3      for i,name in enumerate(names):\n",
       "     7    100000     841478.0      8.4     49.9          people_data[name] = (new_hts[i], new_wts[i])\n",
       "     8         1          6.0      6.0      0.0      return people_data"
      ]
     },
     "metadata": {},
     "output_type": "display_data"
    }
   ],
   "source": [
    "%lprun -f convert_units_array convert_units_array(nameList_np, HTList_np, WTList_np)"
   ]
  },
  {
   "cell_type": "markdown",
   "id": "still-dover",
   "metadata": {},
   "source": [
    "### Memory Profiler"
   ]
  },
  {
   "cell_type": "code",
   "execution_count": 11,
   "id": "decimal-rebate",
   "metadata": {},
   "outputs": [
    {
     "name": "stdout",
     "output_type": "stream",
     "text": [
      "\n"
     ]
    },
    {
     "data": {
      "text/plain": [
       "Filename: C:\\Users\\ChristianV700\\Documents\\GitHub\\Python_coding\\speedy_python\\conv_list.py\n",
       "\n",
       "Line #    Mem usage    Increment  Occurences   Line Contents\n",
       "============================================================\n",
       "     1     77.2 MiB     77.2 MiB           1   def convert_units_list(names, heights, weights):\n",
       "     2     81.3 MiB  -3342.2 MiB      100003       new_hts = [ht * 0.39370  for ht in heights]\n",
       "     3     85.2 MiB      3.9 MiB      100003       new_wts = [wt * 2.20462  for wt in weights]\n",
       "     4     85.2 MiB      0.0 MiB           1       people_data = {}\n",
       "     5     96.9 MiB      6.1 MiB      100001       for i,name in enumerate(names):\n",
       "     6     96.9 MiB      5.6 MiB      100000           people_data[name] = (new_hts[i], new_wts[i])\n",
       "     7     96.9 MiB      0.0 MiB           1       return people_data"
      ]
     },
     "metadata": {},
     "output_type": "display_data"
    }
   ],
   "source": [
    "from conv_list import convert_units_list\n",
    "\n",
    "%load_ext memory_profiler\n",
    "\n",
    "%mprun -f convert_units_list convert_units_list(nameList, HTList, WTList)"
   ]
  },
  {
   "cell_type": "code",
   "execution_count": 12,
   "id": "remarkable-yugoslavia",
   "metadata": {},
   "outputs": [
    {
     "name": "stdout",
     "output_type": "stream",
     "text": [
      "\n"
     ]
    },
    {
     "data": {
      "text/plain": [
       "Filename: C:\\Users\\ChristianV700\\Documents\\GitHub\\Python_coding\\speedy_python\\conv_array.py\n",
       "\n",
       "Line #    Mem usage    Increment  Occurences   Line Contents\n",
       "============================================================\n",
       "     1     77.8 MiB     77.8 MiB           1   def convert_units_array(names, heights, weights):\n",
       "     2     78.6 MiB      0.8 MiB           1       new_hts = heights * 0.39370\n",
       "     3     79.4 MiB      0.8 MiB           1       new_wts = weights * 2.20462\n",
       "     4     79.4 MiB      0.0 MiB           1       people_data = {}\n",
       "     5    106.5 MiB     21.8 MiB      100001       for i,name in enumerate(names):\n",
       "     6    106.5 MiB      5.3 MiB      100000           people_data[name] = (new_hts[i], new_wts[i])\n",
       "     7    106.5 MiB      0.0 MiB           1       return people_data"
      ]
     },
     "metadata": {},
     "output_type": "display_data"
    }
   ],
   "source": [
    "from conv_array import convert_units_array\n",
    "\n",
    "%mprun -f convert_units_array convert_units_array(nameList_np, HTList_np, WTList_np)"
   ]
  },
  {
   "cell_type": "markdown",
   "id": "smoking-equipment",
   "metadata": {},
   "source": [
    "## Combining items of two lists (loop vs zip)\n",
    "\n",
    "Let's use the randomized names list and the randomized heights list."
   ]
  },
  {
   "cell_type": "code",
   "execution_count": 13,
   "id": "advance-trainer",
   "metadata": {},
   "outputs": [
    {
     "name": "stdout",
     "output_type": "stream",
     "text": [
      "[('Axofhxrnjp', 263), ('Cepvntlcjy', 209), ('Upyxcbnexw', 156), ('Wrwmyunqpf', 218), ('Gciqvwewke', 295)]\n"
     ]
    }
   ],
   "source": [
    "combined = []\n",
    "for i, name in enumerate(nameList):\n",
    "    combined.append((name, HTList[i]))\n",
    "print(combined[:5])"
   ]
  },
  {
   "cell_type": "code",
   "execution_count": 14,
   "id": "fifteen-pillow",
   "metadata": {},
   "outputs": [
    {
     "name": "stdout",
     "output_type": "stream",
     "text": [
      "15.7 ms ± 49.2 µs per loop (mean ± std. dev. of 7 runs, 100 loops each)\n"
     ]
    }
   ],
   "source": [
    "%%timeit\n",
    "combined = []\n",
    "for i, name in enumerate(nameList):\n",
    "    combined.append((name, HTList[i]))"
   ]
  },
  {
   "cell_type": "code",
   "execution_count": 15,
   "id": "formed-fluid",
   "metadata": {},
   "outputs": [
    {
     "name": "stdout",
     "output_type": "stream",
     "text": [
      "[('Axofhxrnjp', 263), ('Cepvntlcjy', 209), ('Upyxcbnexw', 156), ('Wrwmyunqpf', 218), ('Gciqvwewke', 295)]\n"
     ]
    }
   ],
   "source": [
    "combined = []\n",
    "for i, name in enumerate(nameList):\n",
    "    combined.append((name, HTList[i]))\n",
    "# unpack zip object to list\n",
    "unpacked = [*combined]\n",
    "print(unpacked[:5])"
   ]
  },
  {
   "cell_type": "code",
   "execution_count": 16,
   "id": "human-costa",
   "metadata": {},
   "outputs": [
    {
     "name": "stdout",
     "output_type": "stream",
     "text": [
      "198 ns ± 8.07 ns per loop (mean ± std. dev. of 7 runs, 1000000 loops each)\n"
     ]
    }
   ],
   "source": [
    "%%timeit\n",
    "combined_zip = zip(nameList, HTList)"
   ]
  },
  {
   "cell_type": "markdown",
   "id": "academic-finland",
   "metadata": {},
   "source": [
    "## Counting items on a list (loop vs Counter function)"
   ]
  },
  {
   "cell_type": "code",
   "execution_count": 17,
   "id": "juvenile-album",
   "metadata": {},
   "outputs": [
    {
     "name": "stdout",
     "output_type": "stream",
     "text": [
      "{263: 627, 209: 673, 156: 685, 218: 656, 295: 703, 150: 700, 205: 645, 246: 607, 275: 670, 225: 668, 253: 656, 269: 719, 154: 681, 151: 691, 186: 655, 208: 649, 233: 656, 194: 652, 228: 651, 199: 673, 178: 646, 163: 675, 259: 674, 198: 627, 227: 672, 200: 639, 217: 653, 270: 695, 250: 628, 231: 701, 188: 679, 174: 675, 170: 631, 229: 694, 179: 664, 251: 654, 165: 706, 212: 648, 223: 677, 273: 633, 172: 691, 242: 652, 221: 738, 173: 652, 235: 671, 152: 662, 247: 611, 183: 663, 239: 648, 296: 676, 291: 682, 262: 672, 210: 630, 159: 621, 258: 648, 276: 684, 169: 657, 240: 662, 286: 662, 245: 689, 238: 673, 181: 685, 155: 668, 213: 643, 204: 636, 237: 650, 166: 660, 300: 675, 241: 643, 187: 657, 293: 662, 283: 647, 192: 675, 230: 654, 184: 656, 175: 643, 214: 675, 277: 704, 272: 643, 219: 708, 226: 689, 285: 683, 158: 662, 222: 666, 157: 646, 216: 674, 257: 655, 162: 638, 254: 643, 292: 649, 189: 651, 264: 641, 203: 618, 164: 648, 278: 625, 294: 700, 249: 646, 288: 606, 195: 694, 268: 715, 167: 675, 297: 664, 211: 687, 236: 705, 244: 653, 197: 667, 255: 631, 193: 657, 176: 632, 266: 670, 177: 644, 256: 677, 298: 653, 284: 740, 252: 640, 201: 661, 281: 673, 287: 694, 265: 703, 202: 674, 232: 656, 160: 620, 180: 613, 168: 645, 234: 684, 196: 662, 161: 669, 267: 676, 289: 642, 271: 676, 248: 640, 190: 674, 243: 625, 153: 674, 215: 633, 171: 662, 279: 672, 220: 654, 224: 655, 299: 697, 191: 691, 261: 630, 274: 688, 260: 649, 207: 684, 185: 613, 290: 661, 182: 658, 282: 665, 280: 618, 206: 649}\n"
     ]
    }
   ],
   "source": [
    "height_counts = {}\n",
    "for height in HTList:\n",
    "    if height not in height_counts:\n",
    "        height_counts[height] = 1\n",
    "    else:\n",
    "        height_counts[height] += 1\n",
    "print(height_counts)"
   ]
  },
  {
   "cell_type": "code",
   "execution_count": 18,
   "id": "advance-radiation",
   "metadata": {},
   "outputs": [
    {
     "name": "stdout",
     "output_type": "stream",
     "text": [
      "13.2 ms ± 900 µs per loop (mean ± std. dev. of 7 runs, 100 loops each)\n"
     ]
    }
   ],
   "source": [
    "%%timeit\n",
    "height_counts = {}\n",
    "for height in HTList:\n",
    "    if height not in height_counts:\n",
    "        height_counts[height] = 1\n",
    "    else:\n",
    "        height_counts[height] += 1"
   ]
  },
  {
   "cell_type": "code",
   "execution_count": 19,
   "id": "modified-subject",
   "metadata": {},
   "outputs": [
    {
     "name": "stdout",
     "output_type": "stream",
     "text": [
      "Counter({284: 740, 221: 738, 269: 719, 268: 715, 219: 708, 165: 706, 236: 705, 277: 704, 295: 703, 265: 703, 231: 701, 150: 700, 294: 700, 299: 697, 270: 695, 229: 694, 195: 694, 287: 694, 151: 691, 172: 691, 191: 691, 245: 689, 226: 689, 274: 688, 211: 687, 156: 685, 181: 685, 276: 684, 234: 684, 207: 684, 285: 683, 291: 682, 154: 681, 188: 679, 223: 677, 256: 677, 296: 676, 267: 676, 271: 676, 163: 675, 174: 675, 300: 675, 192: 675, 214: 675, 167: 675, 259: 674, 216: 674, 202: 674, 190: 674, 153: 674, 209: 673, 199: 673, 238: 673, 281: 673, 227: 672, 262: 672, 279: 672, 235: 671, 275: 670, 266: 670, 161: 669, 225: 668, 155: 668, 197: 667, 222: 666, 282: 665, 179: 664, 297: 664, 183: 663, 152: 662, 240: 662, 286: 662, 293: 662, 158: 662, 196: 662, 171: 662, 201: 661, 290: 661, 166: 660, 182: 658, 169: 657, 187: 657, 193: 657, 218: 656, 253: 656, 233: 656, 184: 656, 232: 656, 186: 655, 257: 655, 224: 655, 251: 654, 230: 654, 220: 654, 217: 653, 244: 653, 298: 653, 194: 652, 242: 652, 173: 652, 228: 651, 189: 651, 237: 650, 208: 649, 292: 649, 260: 649, 206: 649, 212: 648, 239: 648, 258: 648, 164: 648, 283: 647, 178: 646, 157: 646, 249: 646, 205: 645, 168: 645, 177: 644, 213: 643, 241: 643, 175: 643, 272: 643, 254: 643, 289: 642, 264: 641, 252: 640, 248: 640, 200: 639, 162: 638, 204: 636, 273: 633, 215: 633, 176: 632, 170: 631, 255: 631, 210: 630, 261: 630, 250: 628, 263: 627, 198: 627, 278: 625, 243: 625, 159: 621, 160: 620, 203: 618, 280: 618, 180: 613, 185: 613, 247: 611, 246: 607, 288: 606})\n"
     ]
    }
   ],
   "source": [
    "from collections import Counter\n",
    "height_counts = Counter(HTList)\n",
    "print(height_counts)"
   ]
  },
  {
   "cell_type": "code",
   "execution_count": 20,
   "id": "utility-encoding",
   "metadata": {},
   "outputs": [
    {
     "name": "stdout",
     "output_type": "stream",
     "text": [
      "5.05 ms ± 9.95 µs per loop (mean ± std. dev. of 7 runs, 100 loops each)\n"
     ]
    }
   ],
   "source": [
    "%%timeit\n",
    "height_counts = Counter(HTList)"
   ]
  },
  {
   "cell_type": "markdown",
   "id": "fatty-interim",
   "metadata": {},
   "source": [
    "## Number of combinations on a list (loop vs Combinations function)"
   ]
  },
  {
   "cell_type": "code",
   "execution_count": 21,
   "id": "faced-pittsburgh",
   "metadata": {},
   "outputs": [
    {
     "name": "stdout",
     "output_type": "stream",
     "text": [
      "[('Axofhxrnjp', 'Cepvntlcjy'), ('Axofhxrnjp', 'Upyxcbnexw'), ('Axofhxrnjp', 'Wrwmyunqpf'), ('Axofhxrnjp', 'Gciqvwewke'), ('Axofhxrnjp', 'Nwkhavnduy')]\n"
     ]
    }
   ],
   "source": [
    "pairs = []\n",
    "for x in nameList[:100]:\n",
    "    for y in nameList[:100]:\n",
    "        if x == y:\n",
    "            continue\n",
    "        if ((x,y) not in pairs) & ((y,x) not in pairs):\n",
    "            pairs.append((x,y))\n",
    "print(pairs[:5])"
   ]
  },
  {
   "cell_type": "code",
   "execution_count": 22,
   "id": "prompt-allocation",
   "metadata": {},
   "outputs": [
    {
     "name": "stdout",
     "output_type": "stream",
     "text": [
      "2.1 s ± 85.1 ms per loop (mean ± std. dev. of 7 runs, 1 loop each)\n"
     ]
    }
   ],
   "source": [
    "%%timeit\n",
    "for x in nameList[:100]:\n",
    "    for y in nameList[:100]:\n",
    "        if x == y:\n",
    "            continue\n",
    "        if ((x,y) not in pairs) & ((y,x) not in pairs):\n",
    "            pairs.append((x,y))"
   ]
  },
  {
   "cell_type": "code",
   "execution_count": 23,
   "id": "surface-africa",
   "metadata": {},
   "outputs": [
    {
     "name": "stdout",
     "output_type": "stream",
     "text": [
      "[('Axofhxrnjp', 'Cepvntlcjy'), ('Axofhxrnjp', 'Upyxcbnexw'), ('Axofhxrnjp', 'Wrwmyunqpf'), ('Axofhxrnjp', 'Gciqvwewke'), ('Axofhxrnjp', 'Nwkhavnduy')]\n"
     ]
    }
   ],
   "source": [
    "from itertools import combinations\n",
    "\n",
    "pairs_obj = combinations(nameList[:100],2)\n",
    "\n",
    "# unpack combinations object to list\n",
    "pairs = [*pairs_obj]\n",
    "print(pairs[:5])"
   ]
  },
  {
   "cell_type": "code",
   "execution_count": 24,
   "id": "continuous-poverty",
   "metadata": {},
   "outputs": [
    {
     "name": "stdout",
     "output_type": "stream",
     "text": [
      "782 ns ± 64.7 ns per loop (mean ± std. dev. of 7 runs, 1000000 loops each)\n"
     ]
    }
   ],
   "source": [
    "%%timeit\n",
    "combinations(nameList[:100],2)"
   ]
  },
  {
   "cell_type": "markdown",
   "id": "commercial-movie",
   "metadata": {},
   "source": [
    "## Replace loops with built-in functions (zip, map)"
   ]
  },
  {
   "cell_type": "code",
   "execution_count": 25,
   "id": "amber-source",
   "metadata": {},
   "outputs": [
    {
     "data": {
      "text/plain": [
       "[('Axofhxrnjp', 10),\n",
       " ('Wrwmyunqpf', 10),\n",
       " ('Gciqvwewke', 10),\n",
       " ('Yudnkcbtcd', 10),\n",
       " ('Hvmzilmbkt', 10)]"
      ]
     },
     "execution_count": 25,
     "metadata": {},
     "output_type": "execute_result"
    }
   ],
   "source": [
    "loop_output = []\n",
    "for name,weight in zip(nameList, WTList):\n",
    "    if weight < 100:\n",
    "        name_length = len(name)\n",
    "        tuple = (name, name_length)\n",
    "        loop_output.append(tuple)\n",
    "\n",
    "loop_output[:5]"
   ]
  },
  {
   "cell_type": "code",
   "execution_count": 26,
   "id": "unique-oregon",
   "metadata": {},
   "outputs": [
    {
     "name": "stdout",
     "output_type": "stream",
     "text": [
      "12.4 ms ± 316 µs per loop (mean ± std. dev. of 7 runs, 100 loops each)\n"
     ]
    }
   ],
   "source": [
    "%%timeit\n",
    "loop_output = []\n",
    "for name,weight in zip(nameList, WTList):\n",
    "    if weight < 100:\n",
    "        name_length = len(name)\n",
    "        tuple = (name, name_length)\n",
    "        loop_output.append(tuple)"
   ]
  },
  {
   "cell_type": "code",
   "execution_count": 27,
   "id": "express-physics",
   "metadata": {},
   "outputs": [
    {
     "data": {
      "text/plain": [
       "[('Cepvntlcjy', 10),\n",
       " ('Upyxcbnexw', 10),\n",
       " ('Nwkhavnduy', 10),\n",
       " ('Gswwyymyyy', 10),\n",
       " ('Rnhjuixhul', 10)]"
      ]
     },
     "execution_count": 27,
     "metadata": {},
     "output_type": "execute_result"
    }
   ],
   "source": [
    "# use list comprehension to generate a filtered new list\n",
    "filtered_name_list = [name for name,weight in zip(nameList, WTList) if weight > 100]\n",
    "\n",
    "# use map() to apply a function to a list\n",
    "name_lengths_map = map(len, filtered_name_list)\n",
    "\n",
    "# Combine two lists with zip, then unpack zip\n",
    "output = [*zip(filtered_name_list, name_lengths_map)]\n",
    "\n",
    "output[:5]"
   ]
  },
  {
   "cell_type": "code",
   "execution_count": 28,
   "id": "mexican-fleece",
   "metadata": {},
   "outputs": [
    {
     "name": "stdout",
     "output_type": "stream",
     "text": [
      "9.21 ms ± 368 µs per loop (mean ± std. dev. of 7 runs, 100 loops each)\n"
     ]
    }
   ],
   "source": [
    "%%timeit\n",
    "filtered_name_list = [name for name,weight in zip(nameList, WTList) if weight > 100]\n",
    "name_lengths_map = map(len, filtered_name_list)\n",
    "output = [*zip(filtered_name_list, name_lengths_map)]"
   ]
  },
  {
   "cell_type": "markdown",
   "id": "alpine-bahrain",
   "metadata": {},
   "source": [
    "## Arrays instead of lists"
   ]
  },
  {
   "cell_type": "code",
   "execution_count": 29,
   "id": "informal-bunny",
   "metadata": {},
   "outputs": [
    {
     "name": "stdout",
     "output_type": "stream",
     "text": [
      "36.8 ms ± 1.97 ms per loop (mean ± std. dev. of 7 runs, 10 loops each)\n"
     ]
    }
   ],
   "source": [
    "%timeit convert_units_list(nameList, HTList, WTList)"
   ]
  },
  {
   "cell_type": "code",
   "execution_count": 30,
   "id": "durable-paintball",
   "metadata": {},
   "outputs": [
    {
     "name": "stdout",
     "output_type": "stream",
     "text": [
      "77.9 ms ± 587 µs per loop (mean ± std. dev. of 7 runs, 10 loops each)\n"
     ]
    }
   ],
   "source": [
    "%timeit convert_units_array(nameList_np, HTList_np, WTList_np)"
   ]
  },
  {
   "cell_type": "markdown",
   "id": "assured-indian",
   "metadata": {},
   "source": [
    "Oh boy, the array version takes twice as much time when repeated often enough! The line profiler version (see above) must have been a fluke."
   ]
  },
  {
   "cell_type": "code",
   "execution_count": null,
   "id": "banned-wisdom",
   "metadata": {},
   "outputs": [],
   "source": []
  }
 ],
 "metadata": {
  "kernelspec": {
   "display_name": "Python 3",
   "language": "python",
   "name": "python3"
  },
  "language_info": {
   "codemirror_mode": {
    "name": "ipython",
    "version": 3
   },
   "file_extension": ".py",
   "mimetype": "text/x-python",
   "name": "python",
   "nbconvert_exporter": "python",
   "pygments_lexer": "ipython3",
   "version": "3.7.9"
  }
 },
 "nbformat": 4,
 "nbformat_minor": 5
}
