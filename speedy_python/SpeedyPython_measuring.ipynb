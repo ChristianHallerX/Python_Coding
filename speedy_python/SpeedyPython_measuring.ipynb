{
 "cells": [
  {
   "cell_type": "markdown",
   "id": "unusual-index",
   "metadata": {},
   "source": [
    "# Speedy Python"
   ]
  },
  {
   "cell_type": "markdown",
   "id": "canadian-layer",
   "metadata": {},
   "source": [
    "## Timeit\n",
    "**Line Magic**"
   ]
  },
  {
   "cell_type": "code",
   "execution_count": 1,
   "id": "transparent-premises",
   "metadata": {},
   "outputs": [
    {
     "name": "stdout",
     "output_type": "stream",
     "text": [
      "44 ns ± 1.45 ns per loop (mean ± std. dev. of 7 runs, 10000000 loops each)\n"
     ]
    }
   ],
   "source": [
    "# default params\n",
    "%timeit lambda: \"-\".join(map(str, range(10000)))"
   ]
  },
  {
   "cell_type": "code",
   "execution_count": 2,
   "id": "lesser-topic",
   "metadata": {},
   "outputs": [
    {
     "name": "stdout",
     "output_type": "stream",
     "text": [
      "40.9 ns ± 0.134 ns per loop (mean ± std. dev. of 10 runs, 1000 loops each)\n"
     ]
    }
   ],
   "source": [
    "# custom params\n",
    "%timeit -r 10 -n 1000 lambda: \"-\".join(map(str, range(10000)))"
   ]
  },
  {
   "cell_type": "markdown",
   "id": "stable-extension",
   "metadata": {},
   "source": [
    "**Cell magic**\n",
    "\n",
    "Note: the magic command has to be in the first line of the cell or it won't work"
   ]
  },
  {
   "cell_type": "code",
   "execution_count": 3,
   "id": "significant-welcome",
   "metadata": {},
   "outputs": [
    {
     "name": "stdout",
     "output_type": "stream",
     "text": [
      "3.33 ms ± 71.1 µs per loop (mean ± std. dev. of 7 runs, 100 loops each)\n"
     ]
    }
   ],
   "source": [
    "%%timeit\n",
    "total = 0\n",
    "for i in range(100):\n",
    "    for j in range(100):\n",
    "        total += i * (-1) ** j"
   ]
  },
  {
   "cell_type": "markdown",
   "id": "ranging-boston",
   "metadata": {},
   "source": [
    "## Example Setup"
   ]
  },
  {
   "cell_type": "code",
   "execution_count": 4,
   "id": "characteristic-illness",
   "metadata": {},
   "outputs": [
    {
     "name": "stdout",
     "output_type": "stream",
     "text": [
      "List ['Rheagntuuz', 'Dzmntdoelq', 'Pshjwhclck', 'Thdfvpbifm', 'Gkhcnxomqj']\n",
      "NumPy Array ['Rheagntuuz' 'Dzmntdoelq' 'Pshjwhclck' 'Thdfvpbifm' 'Gkhcnxomqj']\n"
     ]
    }
   ],
   "source": [
    "import random\n",
    "import string\n",
    "import numpy as np\n",
    "\n",
    "# a function that generates a random numeric and alphabetical an numeric string\n",
    "def randStr(chars = string.ascii_lowercase, N=10):\n",
    "    return ''.join(random.choice(chars) for _ in range(N)).title()\n",
    "\n",
    "def randNamegen(count=1000, length=10):\n",
    "    nameList=[]\n",
    "    for i in range(count):\n",
    "        nameList.append(randStr(N=length))\n",
    "    return nameList\n",
    "\n",
    "nameList = randNamegen(count=10000)\n",
    "print(\"List\",nameList[:5])\n",
    "\n",
    "nameList_np = np.array(nameList)\n",
    "print(\"NumPy Array\",nameList_np[:5])"
   ]
  },
  {
   "cell_type": "code",
   "execution_count": 5,
   "id": "varied-alarm",
   "metadata": {},
   "outputs": [
    {
     "name": "stdout",
     "output_type": "stream",
     "text": [
      "List [154, 158, 199, 294, 158]\n",
      "NumPy Array [154 158 199 294 158]\n"
     ]
    }
   ],
   "source": [
    "# a function that generates randomized people's heights in centimeters\n",
    "def randHTgen(count=1000, lower=150, upper=300):\n",
    "    HTList=[]\n",
    "    for i in range(count):\n",
    "        HTList.append(random.randint(lower, upper))\n",
    "    return HTList\n",
    "\n",
    "HTList = randHTgen(count=10000)\n",
    "print(\"List\",HTList[:5])\n",
    "\n",
    "HTList_np = np.array(HTList)\n",
    "print(\"NumPy Array\",HTList_np[:5])"
   ]
  },
  {
   "cell_type": "code",
   "execution_count": 6,
   "id": "increasing-insulin",
   "metadata": {},
   "outputs": [
    {
     "name": "stdout",
     "output_type": "stream",
     "text": [
      "List [76, 104, 76, 74, 128]\n",
      "NumPy Array [ 76 104  76  74 128]\n"
     ]
    }
   ],
   "source": [
    "# a function that generates a range of random people wights in kilogramm\n",
    "def randWTgen(count=1000, lower=50, upper=150):\n",
    "    WTList=[]\n",
    "    for i in range(count):\n",
    "        WTList.append(random.randint(lower, upper))\n",
    "    return WTList\n",
    "\n",
    "WTList = randWTgen(count=10000)\n",
    "print(\"List\",WTList[:5])\n",
    "\n",
    "WTList_np = np.array(WTList)\n",
    "print(\"NumPy Array\",WTList_np[:5])"
   ]
  },
  {
   "cell_type": "markdown",
   "id": "grand-treasure",
   "metadata": {},
   "source": [
    "**The example function converts the heights from centimeter to feet and weights from kilograms to pounds.**"
   ]
  },
  {
   "cell_type": "code",
   "execution_count": 7,
   "id": "underlying-blond",
   "metadata": {},
   "outputs": [],
   "source": [
    "# a function for measuring (list comprehension)\n",
    "def convert_units_list(names, heights, weights):\n",
    "    new_hts = [ht * 0.39370  for ht in heights]\n",
    "    new_wts = [wt * 2.20462  for wt in weights]\n",
    "    people_data = {}\n",
    "    for i,name in enumerate(names):\n",
    "        people_data[name] = (new_hts[i], new_wts[i])\n",
    "    return people_data"
   ]
  },
  {
   "cell_type": "code",
   "execution_count": 8,
   "id": "registered-terrace",
   "metadata": {},
   "outputs": [],
   "source": [
    "# a function for measuring (NumPy array broadcasting)\n",
    "def convert_units_array(names, heights, weights):\n",
    "    new_hts = heights * 0.39370\n",
    "    new_wts = weights * 2.20462\n",
    "    people_data = {}\n",
    "    for i,name in enumerate(names):\n",
    "        people_data[name] = (new_hts[i], new_wts[i])\n",
    "    return people_data\n",
    "\n",
    "#convert_units_array(nameList_np, HTList_np, WTList_np)"
   ]
  },
  {
   "cell_type": "markdown",
   "id": "qualified-bacteria",
   "metadata": {},
   "source": [
    "## Line Profiler"
   ]
  },
  {
   "cell_type": "code",
   "execution_count": 9,
   "id": "typical-ireland",
   "metadata": {},
   "outputs": [
    {
     "data": {
      "text/plain": [
       "Timer unit: 1e-07 s\n",
       "\n",
       "Total time: 0.0204018 s\n",
       "File: <ipython-input-7-b143edde93f5>\n",
       "Function: convert_units_list at line 2\n",
       "\n",
       "Line #      Hits         Time  Per Hit   % Time  Line Contents\n",
       "==============================================================\n",
       "     2                                           def convert_units_list(names, heights, weights):\n",
       "     3         1      18136.0  18136.0      8.9      new_hts = [ht * 0.39370  for ht in heights]\n",
       "     4         1      22479.0  22479.0     11.0      new_wts = [wt * 2.20462  for wt in weights]\n",
       "     5         1         21.0     21.0      0.0      people_data = {}\n",
       "     6     10001      76830.0      7.7     37.7      for i,name in enumerate(names):\n",
       "     7     10000      86545.0      8.7     42.4          people_data[name] = (new_hts[i], new_wts[i])\n",
       "     8         1          7.0      7.0      0.0      return people_data"
      ]
     },
     "metadata": {},
     "output_type": "display_data"
    }
   ],
   "source": [
    "%load_ext line_profiler\n",
    "\n",
    "%lprun -f convert_units_list convert_units_list(nameList, HTList, WTList)"
   ]
  },
  {
   "cell_type": "code",
   "execution_count": 10,
   "id": "homeless-denial",
   "metadata": {},
   "outputs": [
    {
     "data": {
      "text/plain": [
       "Timer unit: 1e-07 s\n",
       "\n",
       "Total time: 0.0166983 s\n",
       "File: <ipython-input-8-5226aaf1be87>\n",
       "Function: convert_units_array at line 2\n",
       "\n",
       "Line #      Hits         Time  Per Hit   % Time  Line Contents\n",
       "==============================================================\n",
       "     2                                           def convert_units_array(names, heights, weights):\n",
       "     3         1       1498.0   1498.0      0.9      new_hts = heights * 0.39370\n",
       "     4         1       1009.0   1009.0      0.6      new_wts = weights * 2.20462\n",
       "     5         1         11.0     11.0      0.0      people_data = {}\n",
       "     6     10001      84904.0      8.5     50.8      for i,name in enumerate(names):\n",
       "     7     10000      79555.0      8.0     47.6          people_data[name] = (new_hts[i], new_wts[i])\n",
       "     8         1          6.0      6.0      0.0      return people_data"
      ]
     },
     "metadata": {},
     "output_type": "display_data"
    }
   ],
   "source": [
    "%lprun -f convert_units_array convert_units_array(nameList_np, HTList_np, WTList_np)"
   ]
  },
  {
   "cell_type": "markdown",
   "id": "southeast-bronze",
   "metadata": {},
   "source": [
    "## Memory Profiler"
   ]
  },
  {
   "cell_type": "code",
   "execution_count": 11,
   "id": "funny-studio",
   "metadata": {},
   "outputs": [
    {
     "name": "stdout",
     "output_type": "stream",
     "text": [
      "\n"
     ]
    },
    {
     "data": {
      "text/plain": [
       "Filename: C:\\Users\\ChristianV700\\Documents\\GitHub\\Python_coding\\speedy_python\\conv_list.py\n",
       "\n",
       "Line #    Mem usage    Increment  Occurences   Line Contents\n",
       "============================================================\n",
       "     1     64.8 MiB     64.8 MiB           1   def convert_units_list(names, heights, weights):\n",
       "     2     64.9 MiB      0.1 MiB       10003       new_hts = [ht * 0.39370  for ht in heights]\n",
       "     3     65.2 MiB      0.2 MiB       10003       new_wts = [wt * 2.20462  for wt in weights]\n",
       "     4     65.2 MiB      0.0 MiB           1       people_data = {}\n",
       "     5     66.0 MiB      0.5 MiB       10001       for i,name in enumerate(names):\n",
       "     6     66.0 MiB      0.3 MiB       10000           people_data[name] = (new_hts[i], new_wts[i])\n",
       "     7     66.0 MiB      0.0 MiB           1       return people_data"
      ]
     },
     "metadata": {},
     "output_type": "display_data"
    }
   ],
   "source": [
    "from conv_list import convert_units_list\n",
    "\n",
    "%load_ext memory_profiler\n",
    "\n",
    "%mprun -f convert_units_list convert_units_list(nameList, HTList, WTList)"
   ]
  },
  {
   "cell_type": "code",
   "execution_count": 12,
   "id": "agreed-answer",
   "metadata": {},
   "outputs": [
    {
     "name": "stdout",
     "output_type": "stream",
     "text": [
      "\n"
     ]
    },
    {
     "data": {
      "text/plain": [
       "Filename: C:\\Users\\ChristianV700\\Documents\\GitHub\\Python_coding\\speedy_python\\conv_array.py\n",
       "\n",
       "Line #    Mem usage    Increment  Occurences   Line Contents\n",
       "============================================================\n",
       "     1     65.7 MiB     65.7 MiB           1   def convert_units_array(names, heights, weights):\n",
       "     2     65.7 MiB      0.0 MiB           1       new_hts = heights * 0.39370\n",
       "     3     65.7 MiB      0.0 MiB           1       new_wts = weights * 2.20462\n",
       "     4     65.7 MiB      0.0 MiB           1       people_data = {}\n",
       "     5     67.1 MiB      1.4 MiB       10001       for i,name in enumerate(names):\n",
       "     6     67.1 MiB      0.0 MiB       10000           people_data[name] = (new_hts[i], new_wts[i])\n",
       "     7     67.1 MiB      0.0 MiB           1       return people_data"
      ]
     },
     "metadata": {},
     "output_type": "display_data"
    }
   ],
   "source": [
    "from conv_array import convert_units_array\n",
    "\n",
    "%mprun -f convert_units_array convert_units_array(nameList_np, HTList_np, WTList_np)"
   ]
  },
  {
   "cell_type": "code",
   "execution_count": null,
   "id": "every-responsibility",
   "metadata": {},
   "outputs": [],
   "source": []
  }
 ],
 "metadata": {
  "kernelspec": {
   "display_name": "Python 3",
   "language": "python",
   "name": "python3"
  },
  "language_info": {
   "codemirror_mode": {
    "name": "ipython",
    "version": 3
   },
   "file_extension": ".py",
   "mimetype": "text/x-python",
   "name": "python",
   "nbconvert_exporter": "python",
   "pygments_lexer": "ipython3",
   "version": "3.7.9"
  }
 },
 "nbformat": 4,
 "nbformat_minor": 5
}
