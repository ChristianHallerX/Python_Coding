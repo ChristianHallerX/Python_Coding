{
 "cells": [
  {
   "cell_type": "markdown",
   "id": "classical-migration",
   "metadata": {},
   "source": [
    "# Speedy Python"
   ]
  },
  {
   "cell_type": "markdown",
   "id": "enabling-victoria",
   "metadata": {},
   "source": [
    "## Timeit\n",
    "**Line Magic**"
   ]
  },
  {
   "cell_type": "code",
   "execution_count": 1,
   "id": "married-finish",
   "metadata": {},
   "outputs": [
    {
     "name": "stdout",
     "output_type": "stream",
     "text": [
      "44.8 ns ± 3.02 ns per loop (mean ± std. dev. of 7 runs, 10000000 loops each)\n"
     ]
    }
   ],
   "source": [
    "# default params\n",
    "%timeit lambda: \"-\".join(map(str, range(10000)))"
   ]
  },
  {
   "cell_type": "code",
   "execution_count": 2,
   "id": "banned-think",
   "metadata": {},
   "outputs": [
    {
     "name": "stdout",
     "output_type": "stream",
     "text": [
      "41.9 ns ± 0.0831 ns per loop (mean ± std. dev. of 10 runs, 1000 loops each)\n"
     ]
    }
   ],
   "source": [
    "# custom params\n",
    "%timeit -r 10 -n 1000 lambda: \"-\".join(map(str, range(10000)))"
   ]
  },
  {
   "cell_type": "markdown",
   "id": "unusual-terror",
   "metadata": {},
   "source": [
    "**Cell magic**\n",
    "\n",
    "Note: the magic command has to be in the first line of the cell or it won't work"
   ]
  },
  {
   "cell_type": "code",
   "execution_count": 3,
   "id": "recognized-respect",
   "metadata": {},
   "outputs": [
    {
     "name": "stdout",
     "output_type": "stream",
     "text": [
      "3.27 ms ± 56.5 µs per loop (mean ± std. dev. of 7 runs, 100 loops each)\n"
     ]
    }
   ],
   "source": [
    "%%timeit\n",
    "total = 0\n",
    "for i in range(100):\n",
    "    for j in range(100):\n",
    "        total += i * (-1) ** j"
   ]
  },
  {
   "cell_type": "markdown",
   "id": "emerging-polymer",
   "metadata": {},
   "source": [
    "## Example Setup"
   ]
  },
  {
   "cell_type": "code",
   "execution_count": 11,
   "id": "guilty-harbor",
   "metadata": {},
   "outputs": [
    {
     "name": "stdout",
     "output_type": "stream",
     "text": [
      "['ihoqtxdtxh', 'lvvgnqsatr', 'ghwsvaktkr', 'pyxfeudshd', 'upitfjcrgs']\n"
     ]
    }
   ],
   "source": [
    "import random\n",
    "import string\n",
    "\n",
    "# a function that generates a random numeric and alphabetical an numeric string\n",
    "def randStr(chars = string.ascii_lowercase, N=10):\n",
    "    return ''.join(random.choice(chars) for _ in range(N))\n",
    "\n",
    "def randNamegen(count=1000, length=10):\n",
    "    nameList=[]\n",
    "    for i in range(count):\n",
    "        nameList.append(randStr(N=length))\n",
    "    return nameList\n",
    "\n",
    "nameList = randNamegen(count=10000)\n",
    "print(nameList[:5])"
   ]
  },
  {
   "cell_type": "code",
   "execution_count": 5,
   "id": "hindu-movement",
   "metadata": {},
   "outputs": [
    {
     "name": "stdout",
     "output_type": "stream",
     "text": [
      "[197, 253, 193, 294, 161]\n"
     ]
    }
   ],
   "source": [
    "# a function that generates randomized people's heights in centimeters\n",
    "def randHTgen(count=1000, lower=150, upper=300):\n",
    "    HTList=[]\n",
    "    for i in range(count):\n",
    "        HTList.append(random.randint(lower, upper))\n",
    "    return HTList\n",
    "\n",
    "HTList = randHTgen(count=10000)\n",
    "print(HTList[:5])"
   ]
  },
  {
   "cell_type": "code",
   "execution_count": 6,
   "id": "otherwise-mistress",
   "metadata": {},
   "outputs": [
    {
     "name": "stdout",
     "output_type": "stream",
     "text": [
      "[119, 74, 111, 92, 136]\n"
     ]
    }
   ],
   "source": [
    "# a function that generates a range of random people wights in kilogramm\n",
    "def randWTgen(count=1000, lower=50, upper=150):\n",
    "    WTList=[]\n",
    "    for i in range(count):\n",
    "        WTList.append(random.randint(lower, upper))\n",
    "    return WTList\n",
    "\n",
    "WTList = randWTgen(count=10000)\n",
    "print(WTList[:5])"
   ]
  },
  {
   "cell_type": "code",
   "execution_count": 7,
   "id": "green-coast",
   "metadata": {},
   "outputs": [],
   "source": [
    "# a function for measuring\n",
    "def convert_units(names, heights, weights):\n",
    "    new_hts = [ht * 0.39370  for ht in heights]\n",
    "    new_wts = [wt * 2.20462  for wt in weights]\n",
    "    people_data = {}\n",
    "    for i,name in enumerate(names):\n",
    "        people_data[name] = (new_hts[i], new_wts[i])\n",
    "    return people_data"
   ]
  },
  {
   "cell_type": "markdown",
   "id": "lyric-innocent",
   "metadata": {},
   "source": [
    "## Line Profiler"
   ]
  },
  {
   "cell_type": "code",
   "execution_count": 8,
   "id": "encouraging-chambers",
   "metadata": {},
   "outputs": [
    {
     "data": {
      "text/plain": [
       "Timer unit: 1e-07 s\n",
       "\n",
       "Total time: 0.0191265 s\n",
       "File: <ipython-input-7-446908110fbe>\n",
       "Function: convert_units at line 2\n",
       "\n",
       "Line #      Hits         Time  Per Hit   % Time  Line Contents\n",
       "==============================================================\n",
       "     2                                           def convert_units(names, heights, weights):\n",
       "     3         1      17882.0  17882.0      9.3      new_hts = [ht * 0.39370  for ht in heights]\n",
       "     4         1      20227.0  20227.0     10.6      new_wts = [wt * 2.20462  for wt in weights]\n",
       "     5         1         22.0     22.0      0.0      people_data = {}\n",
       "     6     10001      72026.0      7.2     37.7      for i,name in enumerate(names):\n",
       "     7     10000      81101.0      8.1     42.4          people_data[name] = (new_hts[i], new_wts[i])\n",
       "     8         1          7.0      7.0      0.0      return people_data"
      ]
     },
     "metadata": {},
     "output_type": "display_data"
    }
   ],
   "source": [
    "%load_ext line_profiler\n",
    "\n",
    "%lprun -f convert_units convert_units(nameList, HTList, WTList)"
   ]
  },
  {
   "cell_type": "markdown",
   "id": "synthetic-representative",
   "metadata": {},
   "source": [
    "## Memory Profiler"
   ]
  },
  {
   "cell_type": "code",
   "execution_count": 9,
   "id": "synthetic-spelling",
   "metadata": {},
   "outputs": [
    {
     "name": "stdout",
     "output_type": "stream",
     "text": [
      "\n"
     ]
    },
    {
     "data": {
      "text/plain": [
       "Filename: C:\\Users\\ChristianV700\\Desktop\\conv.py\n",
       "\n",
       "Line #    Mem usage    Increment  Occurences   Line Contents\n",
       "============================================================\n",
       "     1     53.5 MiB     53.5 MiB           1   def convert_units(names, heights, weights):\n",
       "     2     53.8 MiB      0.3 MiB       10003       new_hts = [ht * 0.39370  for ht in heights]\n",
       "     3     54.1 MiB      0.3 MiB       10003       new_wts = [wt * 2.20462  for wt in weights]\n",
       "     4     54.1 MiB      0.0 MiB           1       people_data = {}\n",
       "     5     54.9 MiB      0.5 MiB       10001       for i,name in enumerate(names):\n",
       "     6     54.9 MiB      0.3 MiB       10000           people_data[name] = (new_hts[i], new_wts[i])\n",
       "     7     54.9 MiB      0.0 MiB           1       return people_data"
      ]
     },
     "metadata": {},
     "output_type": "display_data"
    }
   ],
   "source": [
    "from conv import convert_units\n",
    "\n",
    "%load_ext memory_profiler\n",
    "\n",
    "%mprun -f convert_units convert_units(nameList, HTList, WTList)"
   ]
  },
  {
   "cell_type": "code",
   "execution_count": null,
   "id": "greek-volleyball",
   "metadata": {},
   "outputs": [],
   "source": []
  }
 ],
 "metadata": {
  "kernelspec": {
   "display_name": "Python 3",
   "language": "python",
   "name": "python3"
  },
  "language_info": {
   "codemirror_mode": {
    "name": "ipython",
    "version": 3
   },
   "file_extension": ".py",
   "mimetype": "text/x-python",
   "name": "python",
   "nbconvert_exporter": "python",
   "pygments_lexer": "ipython3",
   "version": "3.7.9"
  }
 },
 "nbformat": 4,
 "nbformat_minor": 5
}
