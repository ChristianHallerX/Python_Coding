{
 "cells": [
  {
   "cell_type": "markdown",
   "id": "included-hostel",
   "metadata": {},
   "source": [
    "# Speedy Python\n",
    "\n",
    "Some examples how to measure speed and memory usage.\n",
    "\n",
    "Comparisons include how to speed up or replace loops with built-in functions or NumPy arrays."
   ]
  },
  {
   "cell_type": "markdown",
   "id": "close-modern",
   "metadata": {},
   "source": [
    "## Timeit\n",
    "**Line Magic**"
   ]
  },
  {
   "cell_type": "code",
   "execution_count": 1,
   "id": "durable-trailer",
   "metadata": {},
   "outputs": [
    {
     "name": "stdout",
     "output_type": "stream",
     "text": [
      "46.8 ns ± 2.66 ns per loop (mean ± std. dev. of 7 runs, 10000000 loops each)\n"
     ]
    }
   ],
   "source": [
    "# default params\n",
    "%timeit lambda: \"-\".join(map(str, range(10000)))"
   ]
  },
  {
   "cell_type": "code",
   "execution_count": 2,
   "id": "standard-illinois",
   "metadata": {},
   "outputs": [
    {
     "name": "stdout",
     "output_type": "stream",
     "text": [
      "40.6 ns ± 0.135 ns per loop (mean ± std. dev. of 10 runs, 1000 loops each)\n"
     ]
    }
   ],
   "source": [
    "# custom params\n",
    "%timeit -r 10 -n 1000 lambda: \"-\".join(map(str, range(10000)))"
   ]
  },
  {
   "cell_type": "markdown",
   "id": "excessive-ladder",
   "metadata": {},
   "source": [
    "**Cell magic**\n",
    "\n",
    "Note: the magic command has to be in the first line of the cell or it won't work"
   ]
  },
  {
   "cell_type": "code",
   "execution_count": 3,
   "id": "coastal-manner",
   "metadata": {},
   "outputs": [
    {
     "name": "stdout",
     "output_type": "stream",
     "text": [
      "3.34 ms ± 52.8 µs per loop (mean ± std. dev. of 7 runs, 100 loops each)\n"
     ]
    }
   ],
   "source": [
    "%%timeit\n",
    "total = 0\n",
    "for i in range(100):\n",
    "    for j in range(100):\n",
    "        total += i * (-1) ** j"
   ]
  },
  {
   "cell_type": "markdown",
   "id": "considerable-morris",
   "metadata": {},
   "source": [
    "## Example Setup"
   ]
  },
  {
   "cell_type": "code",
   "execution_count": 4,
   "id": "essential-automation",
   "metadata": {},
   "outputs": [
    {
     "name": "stdout",
     "output_type": "stream",
     "text": [
      "List ['Xleoufudlp', 'Jspyzryebq', 'Bairgjmpei', 'Lwnrxwaanp', 'Angmhrqtkn']\n",
      "NumPy Array ['Xleoufudlp' 'Jspyzryebq' 'Bairgjmpei' 'Lwnrxwaanp' 'Angmhrqtkn']\n"
     ]
    }
   ],
   "source": [
    "import random\n",
    "import string\n",
    "import numpy as np\n",
    "\n",
    "# a function that generates a random numeric and alphabetical an numeric string\n",
    "def randStr(chars = string.ascii_lowercase, N=10):\n",
    "    return ''.join(random.choice(chars) for _ in range(N)).title()\n",
    "\n",
    "def randNamegen(count=1000, length=10):\n",
    "    nameList=[]\n",
    "    for i in range(count):\n",
    "        nameList.append(randStr(N=length))\n",
    "    return nameList\n",
    "\n",
    "nameList = randNamegen(count=100000)\n",
    "print(\"List\",nameList[:5])\n",
    "\n",
    "nameList_np = np.array(nameList)\n",
    "print(\"NumPy Array\",nameList_np[:5])"
   ]
  },
  {
   "cell_type": "code",
   "execution_count": 5,
   "id": "pharmaceutical-popularity",
   "metadata": {},
   "outputs": [
    {
     "name": "stdout",
     "output_type": "stream",
     "text": [
      "List [251, 198, 172, 291, 252]\n",
      "NumPy Array [251 198 172 291 252]\n"
     ]
    }
   ],
   "source": [
    "# a function that generates randomized people's heights in centimeters\n",
    "def randHTgen(count=1000, lower=150, upper=300):\n",
    "    HTList=[]\n",
    "    for i in range(count):\n",
    "        HTList.append(random.randint(lower, upper))\n",
    "    return HTList\n",
    "\n",
    "HTList = randHTgen(count=100000)\n",
    "print(\"List\",HTList[:5])\n",
    "\n",
    "HTList_np = np.array(HTList)\n",
    "print(\"NumPy Array\",HTList_np[:5])"
   ]
  },
  {
   "cell_type": "code",
   "execution_count": 6,
   "id": "advised-empty",
   "metadata": {},
   "outputs": [
    {
     "name": "stdout",
     "output_type": "stream",
     "text": [
      "List [74, 105, 54, 53, 79]\n",
      "NumPy Array [ 74 105  54  53  79]\n"
     ]
    }
   ],
   "source": [
    "# a function that generates a range of random people wights in kilogramm\n",
    "def randWTgen(count=1000, lower=50, upper=150):\n",
    "    WTList=[]\n",
    "    for i in range(count):\n",
    "        WTList.append(random.randint(lower, upper))\n",
    "    return WTList\n",
    "\n",
    "WTList = randWTgen(count=100000)\n",
    "print(\"List\",WTList[:5])\n",
    "\n",
    "WTList_np = np.array(WTList)\n",
    "print(\"NumPy Array\",WTList_np[:5])"
   ]
  },
  {
   "cell_type": "markdown",
   "id": "absolute-concentration",
   "metadata": {},
   "source": [
    "**The example function converts the heights from centimeter to feet and weights from kilograms to pounds.**"
   ]
  },
  {
   "cell_type": "code",
   "execution_count": 7,
   "id": "answering-cologne",
   "metadata": {},
   "outputs": [],
   "source": [
    "# a function for measuring (list comprehension)\n",
    "def convert_units_list(names, heights, weights):\n",
    "    new_hts = [ht * 0.39370  for ht in heights]\n",
    "    new_wts = [wt * 2.20462  for wt in weights]\n",
    "    people_data = {}\n",
    "    for i,name in enumerate(names):\n",
    "        people_data[name] = (new_hts[i], new_wts[i])\n",
    "    return people_data"
   ]
  },
  {
   "cell_type": "code",
   "execution_count": 8,
   "id": "supposed-geometry",
   "metadata": {},
   "outputs": [],
   "source": [
    "# a function for measuring (NumPy array broadcasting)\n",
    "def convert_units_array(names, heights, weights):\n",
    "    new_hts = heights * 0.39370\n",
    "    new_wts = weights * 2.20462\n",
    "    people_data = {}\n",
    "    for i,name in enumerate(names):\n",
    "        people_data[name] = (new_hts[i], new_wts[i])\n",
    "    return people_data\n",
    "\n",
    "#convert_units_array(nameList_np, HTList_np, WTList_np)"
   ]
  },
  {
   "cell_type": "markdown",
   "id": "direct-trial",
   "metadata": {},
   "source": [
    "## Case Study: list vs NumPy array\n",
    "### Line Profiler"
   ]
  },
  {
   "cell_type": "code",
   "execution_count": 9,
   "id": "short-material",
   "metadata": {},
   "outputs": [
    {
     "data": {
      "text/plain": [
       "Timer unit: 1e-07 s\n",
       "\n",
       "Total time: 0.213249 s\n",
       "File: <ipython-input-7-b143edde93f5>\n",
       "Function: convert_units_list at line 2\n",
       "\n",
       "Line #      Hits         Time  Per Hit   % Time  Line Contents\n",
       "==============================================================\n",
       "     2                                           def convert_units_list(names, heights, weights):\n",
       "     3         1     184181.0 184181.0      8.6      new_hts = [ht * 0.39370  for ht in heights]\n",
       "     4         1     171217.0 171217.0      8.0      new_wts = [wt * 2.20462  for wt in weights]\n",
       "     5         1         21.0     21.0      0.0      people_data = {}\n",
       "     6    100001     883878.0      8.8     41.4      for i,name in enumerate(names):\n",
       "     7    100000     893188.0      8.9     41.9          people_data[name] = (new_hts[i], new_wts[i])\n",
       "     8         1          7.0      7.0      0.0      return people_data"
      ]
     },
     "metadata": {},
     "output_type": "display_data"
    }
   ],
   "source": [
    "%load_ext line_profiler\n",
    "\n",
    "%lprun -f convert_units_list convert_units_list(nameList, HTList, WTList)"
   ]
  },
  {
   "cell_type": "code",
   "execution_count": 10,
   "id": "brave-plane",
   "metadata": {},
   "outputs": [
    {
     "data": {
      "text/plain": [
       "Timer unit: 1e-07 s\n",
       "\n",
       "Total time: 0.165588 s\n",
       "File: <ipython-input-8-5226aaf1be87>\n",
       "Function: convert_units_array at line 2\n",
       "\n",
       "Line #      Hits         Time  Per Hit   % Time  Line Contents\n",
       "==============================================================\n",
       "     2                                           def convert_units_array(names, heights, weights):\n",
       "     3         1       5837.0   5837.0      0.4      new_hts = heights * 0.39370\n",
       "     4         1       5605.0   5605.0      0.3      new_wts = weights * 2.20462\n",
       "     5         1         15.0     15.0      0.0      people_data = {}\n",
       "     6    100001     813374.0      8.1     49.1      for i,name in enumerate(names):\n",
       "     7    100000     831042.0      8.3     50.2          people_data[name] = (new_hts[i], new_wts[i])\n",
       "     8         1          6.0      6.0      0.0      return people_data"
      ]
     },
     "metadata": {},
     "output_type": "display_data"
    }
   ],
   "source": [
    "%lprun -f convert_units_array convert_units_array(nameList_np, HTList_np, WTList_np)"
   ]
  },
  {
   "cell_type": "markdown",
   "id": "banner-violin",
   "metadata": {},
   "source": [
    "### Memory Profiler"
   ]
  },
  {
   "cell_type": "code",
   "execution_count": 11,
   "id": "anticipated-andrews",
   "metadata": {},
   "outputs": [
    {
     "name": "stdout",
     "output_type": "stream",
     "text": [
      "\n"
     ]
    },
    {
     "data": {
      "text/plain": [
       "Filename: C:\\Users\\ChristianV700\\Documents\\GitHub\\Python_coding\\speedy_python\\conv_list.py\n",
       "\n",
       "Line #    Mem usage    Increment  Occurences   Line Contents\n",
       "============================================================\n",
       "     1     76.8 MiB     76.8 MiB           1   def convert_units_list(names, heights, weights):\n",
       "     2     81.1 MiB      4.3 MiB      100003       new_hts = [ht * 0.39370  for ht in heights]\n",
       "     3     85.7 MiB      4.6 MiB      100003       new_wts = [wt * 2.20462  for wt in weights]\n",
       "     4     85.7 MiB      0.0 MiB           1       people_data = {}\n",
       "     5     96.9 MiB      6.1 MiB      100001       for i,name in enumerate(names):\n",
       "     6     96.9 MiB      5.0 MiB      100000           people_data[name] = (new_hts[i], new_wts[i])\n",
       "     7     96.9 MiB      0.0 MiB           1       return people_data"
      ]
     },
     "metadata": {},
     "output_type": "display_data"
    }
   ],
   "source": [
    "from conv_list import convert_units_list\n",
    "\n",
    "%load_ext memory_profiler\n",
    "\n",
    "%mprun -f convert_units_list convert_units_list(nameList, HTList, WTList)"
   ]
  },
  {
   "cell_type": "code",
   "execution_count": 12,
   "id": "technical-marathon",
   "metadata": {},
   "outputs": [
    {
     "name": "stdout",
     "output_type": "stream",
     "text": [
      "\n"
     ]
    },
    {
     "data": {
      "text/plain": [
       "Filename: C:\\Users\\ChristianV700\\Documents\\GitHub\\Python_coding\\speedy_python\\conv_array.py\n",
       "\n",
       "Line #    Mem usage    Increment  Occurences   Line Contents\n",
       "============================================================\n",
       "     1     77.4 MiB     77.4 MiB           1   def convert_units_array(names, heights, weights):\n",
       "     2     78.3 MiB      0.8 MiB           1       new_hts = heights * 0.39370\n",
       "     3     79.0 MiB      0.8 MiB           1       new_wts = weights * 2.20462\n",
       "     4     79.0 MiB      0.0 MiB           1       people_data = {}\n",
       "     5    107.4 MiB     22.1 MiB      100001       for i,name in enumerate(names):\n",
       "     6    107.4 MiB      6.2 MiB      100000           people_data[name] = (new_hts[i], new_wts[i])\n",
       "     7    107.4 MiB      0.0 MiB           1       return people_data"
      ]
     },
     "metadata": {},
     "output_type": "display_data"
    }
   ],
   "source": [
    "from conv_array import convert_units_array\n",
    "\n",
    "%mprun -f convert_units_array convert_units_array(nameList_np, HTList_np, WTList_np)"
   ]
  },
  {
   "cell_type": "markdown",
   "id": "funny-recognition",
   "metadata": {},
   "source": [
    "## Combining items of two lists (loop vs zip)\n",
    "\n",
    "Let's use the randomized names list and the randomized heights list."
   ]
  },
  {
   "cell_type": "code",
   "execution_count": 13,
   "id": "vocational-teddy",
   "metadata": {},
   "outputs": [
    {
     "name": "stdout",
     "output_type": "stream",
     "text": [
      "[('Xleoufudlp', 251), ('Jspyzryebq', 198), ('Bairgjmpei', 172), ('Lwnrxwaanp', 291), ('Angmhrqtkn', 252)]\n"
     ]
    }
   ],
   "source": [
    "combined = []\n",
    "for i, name in enumerate(nameList):\n",
    "    combined.append((name, HTList[i]))\n",
    "print(combined[:5])"
   ]
  },
  {
   "cell_type": "code",
   "execution_count": 14,
   "id": "animated-parker",
   "metadata": {},
   "outputs": [
    {
     "name": "stdout",
     "output_type": "stream",
     "text": [
      "17.8 ms ± 1.07 ms per loop (mean ± std. dev. of 7 runs, 100 loops each)\n"
     ]
    }
   ],
   "source": [
    "%%timeit\n",
    "combined = []\n",
    "for i, name in enumerate(nameList):\n",
    "    combined.append((name, HTList[i]))"
   ]
  },
  {
   "cell_type": "code",
   "execution_count": 15,
   "id": "classical-avatar",
   "metadata": {},
   "outputs": [
    {
     "name": "stdout",
     "output_type": "stream",
     "text": [
      "[('Xleoufudlp', 251), ('Jspyzryebq', 198), ('Bairgjmpei', 172), ('Lwnrxwaanp', 291), ('Angmhrqtkn', 252)]\n"
     ]
    }
   ],
   "source": [
    "combined = []\n",
    "for i, name in enumerate(nameList):\n",
    "    combined.append((name, HTList[i]))\n",
    "# unpack zip object to list\n",
    "unpacked = [*combined]\n",
    "print(unpacked[:5])"
   ]
  },
  {
   "cell_type": "code",
   "execution_count": 16,
   "id": "essential-disabled",
   "metadata": {},
   "outputs": [
    {
     "name": "stdout",
     "output_type": "stream",
     "text": [
      "194 ns ± 1.06 ns per loop (mean ± std. dev. of 7 runs, 10000000 loops each)\n"
     ]
    }
   ],
   "source": [
    "%%timeit\n",
    "combined_zip = zip(nameList, HTList)"
   ]
  },
  {
   "cell_type": "markdown",
   "id": "bizarre-african",
   "metadata": {},
   "source": [
    "## Counting items on a list (loop vs Counter function)"
   ]
  },
  {
   "cell_type": "code",
   "execution_count": 17,
   "id": "indie-haiti",
   "metadata": {},
   "outputs": [
    {
     "name": "stdout",
     "output_type": "stream",
     "text": [
      "{251: 694, 198: 701, 172: 703, 291: 687, 252: 631, 159: 649, 249: 668, 168: 678, 234: 669, 188: 641, 243: 670, 255: 637, 196: 657, 152: 702, 296: 679, 204: 708, 158: 614, 283: 599, 213: 652, 162: 644, 222: 672, 281: 642, 274: 625, 297: 665, 292: 691, 238: 686, 236: 634, 240: 707, 161: 654, 199: 671, 150: 696, 154: 704, 156: 651, 174: 637, 187: 671, 180: 665, 177: 712, 275: 696, 202: 653, 219: 656, 239: 684, 260: 645, 200: 647, 286: 640, 261: 649, 237: 697, 203: 677, 190: 666, 288: 679, 269: 677, 214: 633, 170: 682, 184: 676, 229: 641, 298: 605, 166: 715, 233: 639, 189: 609, 276: 625, 169: 655, 185: 644, 259: 626, 220: 611, 295: 673, 287: 684, 221: 644, 248: 669, 264: 691, 224: 608, 175: 687, 290: 622, 212: 673, 211: 646, 210: 660, 157: 695, 225: 718, 247: 681, 258: 689, 256: 680, 293: 725, 164: 704, 280: 674, 272: 625, 160: 679, 241: 657, 299: 655, 250: 716, 278: 656, 284: 678, 245: 674, 289: 653, 242: 659, 300: 661, 217: 659, 171: 677, 163: 666, 266: 672, 167: 634, 235: 650, 285: 655, 230: 661, 226: 689, 282: 646, 270: 642, 192: 619, 216: 649, 181: 638, 215: 669, 153: 642, 209: 628, 253: 629, 165: 650, 191: 641, 232: 697, 195: 662, 231: 641, 268: 614, 277: 701, 262: 659, 206: 626, 254: 640, 194: 644, 294: 642, 208: 658, 176: 673, 178: 631, 207: 612, 197: 674, 246: 660, 182: 666, 267: 690, 186: 650, 227: 670, 193: 654, 228: 669, 244: 719, 155: 677, 271: 703, 223: 644, 201: 658, 279: 669, 257: 688, 151: 617, 205: 689, 218: 623, 265: 717, 183: 685, 263: 685, 179: 642, 273: 641, 173: 665}\n"
     ]
    }
   ],
   "source": [
    "height_counts = {}\n",
    "for height in HTList:\n",
    "    if height not in height_counts:\n",
    "        height_counts[height] = 1\n",
    "    else:\n",
    "        height_counts[height] += 1\n",
    "print(height_counts)"
   ]
  },
  {
   "cell_type": "code",
   "execution_count": 18,
   "id": "present-channel",
   "metadata": {},
   "outputs": [
    {
     "name": "stdout",
     "output_type": "stream",
     "text": [
      "12.4 ms ± 382 µs per loop (mean ± std. dev. of 7 runs, 100 loops each)\n"
     ]
    }
   ],
   "source": [
    "%%timeit\n",
    "height_counts = {}\n",
    "for height in HTList:\n",
    "    if height not in height_counts:\n",
    "        height_counts[height] = 1\n",
    "    else:\n",
    "        height_counts[height] += 1"
   ]
  },
  {
   "cell_type": "code",
   "execution_count": 19,
   "id": "brutal-recorder",
   "metadata": {},
   "outputs": [
    {
     "name": "stdout",
     "output_type": "stream",
     "text": [
      "Counter({293: 725, 244: 719, 225: 718, 265: 717, 250: 716, 166: 715, 177: 712, 204: 708, 240: 707, 154: 704, 164: 704, 172: 703, 271: 703, 152: 702, 198: 701, 277: 701, 237: 697, 232: 697, 150: 696, 275: 696, 157: 695, 251: 694, 292: 691, 264: 691, 267: 690, 258: 689, 226: 689, 205: 689, 257: 688, 291: 687, 175: 687, 238: 686, 183: 685, 263: 685, 239: 684, 287: 684, 170: 682, 247: 681, 256: 680, 296: 679, 288: 679, 160: 679, 168: 678, 284: 678, 203: 677, 269: 677, 171: 677, 155: 677, 184: 676, 280: 674, 245: 674, 197: 674, 295: 673, 212: 673, 176: 673, 222: 672, 266: 672, 199: 671, 187: 671, 243: 670, 227: 670, 234: 669, 248: 669, 215: 669, 228: 669, 279: 669, 249: 668, 190: 666, 163: 666, 182: 666, 297: 665, 180: 665, 173: 665, 195: 662, 300: 661, 230: 661, 210: 660, 246: 660, 242: 659, 217: 659, 262: 659, 208: 658, 201: 658, 196: 657, 241: 657, 219: 656, 278: 656, 169: 655, 299: 655, 285: 655, 161: 654, 193: 654, 202: 653, 289: 653, 213: 652, 156: 651, 235: 650, 165: 650, 186: 650, 159: 649, 261: 649, 216: 649, 200: 647, 211: 646, 282: 646, 260: 645, 162: 644, 185: 644, 221: 644, 194: 644, 223: 644, 281: 642, 270: 642, 153: 642, 294: 642, 179: 642, 188: 641, 229: 641, 191: 641, 231: 641, 273: 641, 286: 640, 254: 640, 233: 639, 181: 638, 255: 637, 174: 637, 236: 634, 167: 634, 214: 633, 252: 631, 178: 631, 253: 629, 209: 628, 259: 626, 206: 626, 274: 625, 276: 625, 272: 625, 218: 623, 290: 622, 192: 619, 151: 617, 158: 614, 268: 614, 207: 612, 220: 611, 189: 609, 224: 608, 298: 605, 283: 599})\n"
     ]
    }
   ],
   "source": [
    "from collections import Counter\n",
    "height_counts = Counter(HTList)\n",
    "print(height_counts)"
   ]
  },
  {
   "cell_type": "code",
   "execution_count": 20,
   "id": "enclosed-receiver",
   "metadata": {},
   "outputs": [
    {
     "name": "stdout",
     "output_type": "stream",
     "text": [
      "4.96 ms ± 26.1 µs per loop (mean ± std. dev. of 7 runs, 100 loops each)\n"
     ]
    }
   ],
   "source": [
    "%%timeit\n",
    "height_counts = Counter(HTList)"
   ]
  },
  {
   "cell_type": "markdown",
   "id": "moving-substance",
   "metadata": {},
   "source": [
    "## Number of combinations on a list (loop vs Combinations function)"
   ]
  },
  {
   "cell_type": "code",
   "execution_count": 21,
   "id": "regional-evaluation",
   "metadata": {},
   "outputs": [
    {
     "name": "stdout",
     "output_type": "stream",
     "text": [
      "[('Xleoufudlp', 'Jspyzryebq'), ('Xleoufudlp', 'Bairgjmpei'), ('Xleoufudlp', 'Lwnrxwaanp'), ('Xleoufudlp', 'Angmhrqtkn'), ('Xleoufudlp', 'Bpiejoqtly')]\n"
     ]
    }
   ],
   "source": [
    "pairs = []\n",
    "for x in nameList[:100]:\n",
    "    for y in nameList[:100]:\n",
    "        if x == y:\n",
    "            continue\n",
    "        if ((x,y) not in pairs) & ((y,x) not in pairs):\n",
    "            pairs.append((x,y))\n",
    "print(pairs[:5])"
   ]
  },
  {
   "cell_type": "code",
   "execution_count": 22,
   "id": "stock-bibliography",
   "metadata": {},
   "outputs": [
    {
     "name": "stdout",
     "output_type": "stream",
     "text": [
      "1.98 s ± 23.3 ms per loop (mean ± std. dev. of 7 runs, 1 loop each)\n"
     ]
    }
   ],
   "source": [
    "%%timeit\n",
    "for x in nameList[:100]:\n",
    "    for y in nameList[:100]:\n",
    "        if x == y:\n",
    "            continue\n",
    "        if ((x,y) not in pairs) & ((y,x) not in pairs):\n",
    "            pairs.append((x,y))"
   ]
  },
  {
   "cell_type": "code",
   "execution_count": 23,
   "id": "considered-hotel",
   "metadata": {},
   "outputs": [
    {
     "name": "stdout",
     "output_type": "stream",
     "text": [
      "[('Xleoufudlp', 'Jspyzryebq'), ('Xleoufudlp', 'Bairgjmpei'), ('Xleoufudlp', 'Lwnrxwaanp'), ('Xleoufudlp', 'Angmhrqtkn'), ('Xleoufudlp', 'Bpiejoqtly')]\n"
     ]
    }
   ],
   "source": [
    "from itertools import combinations\n",
    "\n",
    "pairs_obj = combinations(nameList[:100],2)\n",
    "\n",
    "# unpack combinations object to list\n",
    "pairs = [*pairs_obj]\n",
    "print(pairs[:5])"
   ]
  },
  {
   "cell_type": "code",
   "execution_count": 24,
   "id": "lovely-momentum",
   "metadata": {},
   "outputs": [
    {
     "name": "stdout",
     "output_type": "stream",
     "text": [
      "724 ns ± 6.85 ns per loop (mean ± std. dev. of 7 runs, 1000000 loops each)\n"
     ]
    }
   ],
   "source": [
    "%%timeit\n",
    "combinations(nameList[:100],2)"
   ]
  },
  {
   "cell_type": "markdown",
   "id": "dying-flesh",
   "metadata": {},
   "source": [
    "## Replace loops with built-in functions (zip, map)"
   ]
  },
  {
   "cell_type": "code",
   "execution_count": 25,
   "id": "atlantic-masters",
   "metadata": {},
   "outputs": [
    {
     "data": {
      "text/plain": [
       "[('Xleoufudlp', 10),\n",
       " ('Bairgjmpei', 10),\n",
       " ('Lwnrxwaanp', 10),\n",
       " ('Angmhrqtkn', 10),\n",
       " ('Usespvmygc', 10)]"
      ]
     },
     "execution_count": 25,
     "metadata": {},
     "output_type": "execute_result"
    }
   ],
   "source": [
    "loop_output = []\n",
    "for name,weight in zip(nameList, WTList):\n",
    "    if weight < 100:\n",
    "        name_length = len(name)\n",
    "        tuple = (name, name_length)\n",
    "        loop_output.append(tuple)\n",
    "\n",
    "loop_output[:5]"
   ]
  },
  {
   "cell_type": "code",
   "execution_count": 26,
   "id": "soviet-norfolk",
   "metadata": {},
   "outputs": [
    {
     "name": "stdout",
     "output_type": "stream",
     "text": [
      "11.7 ms ± 128 µs per loop (mean ± std. dev. of 7 runs, 100 loops each)\n"
     ]
    }
   ],
   "source": [
    "%%timeit\n",
    "loop_output = []\n",
    "for name,weight in zip(nameList, WTList):\n",
    "    if weight < 100:\n",
    "        name_length = len(name)\n",
    "        tuple = (name, name_length)\n",
    "        loop_output.append(tuple)"
   ]
  },
  {
   "cell_type": "code",
   "execution_count": 27,
   "id": "hired-washington",
   "metadata": {},
   "outputs": [
    {
     "data": {
      "text/plain": [
       "[('Jspyzryebq', 10),\n",
       " ('Bpiejoqtly', 10),\n",
       " ('Ikslqgziit', 10),\n",
       " ('Ebphiyxefz', 10),\n",
       " ('Hwabfjbpek', 10)]"
      ]
     },
     "execution_count": 27,
     "metadata": {},
     "output_type": "execute_result"
    }
   ],
   "source": [
    "# use list comprehension to generate a filtered new list\n",
    "filtered_name_list = [name for name,weight in zip(nameList, WTList) if weight > 100]\n",
    "\n",
    "# use map() to apply a function to a list\n",
    "name_lengths_map = map(len, filtered_name_list)\n",
    "\n",
    "# Combine two lists with zip, then unpack zip\n",
    "output = [*zip(filtered_name_list, name_lengths_map)]\n",
    "\n",
    "output[:5]"
   ]
  },
  {
   "cell_type": "code",
   "execution_count": 28,
   "id": "narrative-photograph",
   "metadata": {},
   "outputs": [
    {
     "name": "stdout",
     "output_type": "stream",
     "text": [
      "8.95 ms ± 280 µs per loop (mean ± std. dev. of 7 runs, 100 loops each)\n"
     ]
    }
   ],
   "source": [
    "%%timeit\n",
    "filtered_name_list = [name for name,weight in zip(nameList, WTList) if weight > 100]\n",
    "name_lengths_map = map(len, filtered_name_list)\n",
    "output = [*zip(filtered_name_list, name_lengths_map)]"
   ]
  },
  {
   "cell_type": "code",
   "execution_count": null,
   "id": "constant-press",
   "metadata": {},
   "outputs": [],
   "source": []
  }
 ],
 "metadata": {
  "kernelspec": {
   "display_name": "Python 3",
   "language": "python",
   "name": "python3"
  },
  "language_info": {
   "codemirror_mode": {
    "name": "ipython",
    "version": 3
   },
   "file_extension": ".py",
   "mimetype": "text/x-python",
   "name": "python",
   "nbconvert_exporter": "python",
   "pygments_lexer": "ipython3",
   "version": "3.7.9"
  }
 },
 "nbformat": 4,
 "nbformat_minor": 5
}
